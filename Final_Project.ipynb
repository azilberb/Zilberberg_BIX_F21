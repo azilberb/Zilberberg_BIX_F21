{
  "nbformat": 4,
  "nbformat_minor": 0,
  "metadata": {
    "colab": {
      "name": "Final_Project.ipynb",
      "provenance": [],
      "collapsed_sections": [
        "H7wZ20Mhm9Dn",
        "-7EGUFBznE-w",
        "zp9GIk4pnIXN",
        "_ST92j53gRRP",
        "XUaG8PAEghNe",
        "SVWOOd2nhb-G"
      ],
      "include_colab_link": true
    },
    "kernelspec": {
      "name": "python3",
      "display_name": "Python 3"
    },
    "language_info": {
      "name": "python"
    },
    "widgets": {
      "application/vnd.jupyter.widget-state+json": {
        "297c1efe71d94719b6a8b409433dbf3c": {
          "model_module": "@jupyter-widgets/controls",
          "model_name": "HBoxModel",
          "model_module_version": "1.5.0",
          "state": {
            "_view_name": "HBoxView",
            "_dom_classes": [],
            "_model_name": "HBoxModel",
            "_view_module": "@jupyter-widgets/controls",
            "_model_module_version": "1.5.0",
            "_view_count": null,
            "_view_module_version": "1.5.0",
            "box_style": "",
            "layout": "IPY_MODEL_64d0888e8c0648c78117ffc646d482a5",
            "_model_module": "@jupyter-widgets/controls",
            "children": [
              "IPY_MODEL_2997e5d0093246c89586eb25ad42ca45",
              "IPY_MODEL_6e49c100956444dc941f098169c20926",
              "IPY_MODEL_651cb35462324a8fbf39efd8a9e22974"
            ]
          }
        },
        "64d0888e8c0648c78117ffc646d482a5": {
          "model_module": "@jupyter-widgets/base",
          "model_name": "LayoutModel",
          "model_module_version": "1.2.0",
          "state": {
            "_view_name": "LayoutView",
            "grid_template_rows": null,
            "right": null,
            "justify_content": null,
            "_view_module": "@jupyter-widgets/base",
            "overflow": null,
            "_model_module_version": "1.2.0",
            "_view_count": null,
            "flex_flow": null,
            "width": null,
            "min_width": null,
            "border": null,
            "align_items": null,
            "bottom": null,
            "_model_module": "@jupyter-widgets/base",
            "top": null,
            "grid_column": null,
            "overflow_y": null,
            "overflow_x": null,
            "grid_auto_flow": null,
            "grid_area": null,
            "grid_template_columns": null,
            "flex": null,
            "_model_name": "LayoutModel",
            "justify_items": null,
            "grid_row": null,
            "max_height": null,
            "align_content": null,
            "visibility": null,
            "align_self": null,
            "height": null,
            "min_height": null,
            "padding": null,
            "grid_auto_rows": null,
            "grid_gap": null,
            "max_width": null,
            "order": null,
            "_view_module_version": "1.2.0",
            "grid_template_areas": null,
            "object_position": null,
            "object_fit": null,
            "grid_auto_columns": null,
            "margin": null,
            "display": null,
            "left": null
          }
        },
        "2997e5d0093246c89586eb25ad42ca45": {
          "model_module": "@jupyter-widgets/controls",
          "model_name": "HTMLModel",
          "model_module_version": "1.5.0",
          "state": {
            "_view_name": "HTMLView",
            "style": "IPY_MODEL_6a34f17ad36a42d2b1442e608437be18",
            "_dom_classes": [],
            "description": "",
            "_model_name": "HTMLModel",
            "placeholder": "​",
            "_view_module": "@jupyter-widgets/controls",
            "_model_module_version": "1.5.0",
            "value": "accum_0: 100%",
            "_view_count": null,
            "_view_module_version": "1.5.0",
            "description_tooltip": null,
            "_model_module": "@jupyter-widgets/controls",
            "layout": "IPY_MODEL_e96ee4fdf6af479d943dbf8b73705653"
          }
        },
        "6e49c100956444dc941f098169c20926": {
          "model_module": "@jupyter-widgets/controls",
          "model_name": "FloatProgressModel",
          "model_module_version": "1.5.0",
          "state": {
            "_view_name": "ProgressView",
            "style": "IPY_MODEL_7ebf697395f546fb9dea41153b18b822",
            "_dom_classes": [],
            "description": "",
            "_model_name": "FloatProgressModel",
            "bar_style": "success",
            "max": 100,
            "_view_module": "@jupyter-widgets/controls",
            "_model_module_version": "1.5.0",
            "value": 100,
            "_view_count": null,
            "_view_module_version": "1.5.0",
            "orientation": "horizontal",
            "min": 0,
            "description_tooltip": null,
            "_model_module": "@jupyter-widgets/controls",
            "layout": "IPY_MODEL_d2bfc18e12fc4151887d79b9d97c2d86"
          }
        },
        "651cb35462324a8fbf39efd8a9e22974": {
          "model_module": "@jupyter-widgets/controls",
          "model_name": "HTMLModel",
          "model_module_version": "1.5.0",
          "state": {
            "_view_name": "HTMLView",
            "style": "IPY_MODEL_5170c4586c0c45aeae1adcd88aa887ff",
            "_dom_classes": [],
            "description": "",
            "_model_name": "HTMLModel",
            "placeholder": "​",
            "_view_module": "@jupyter-widgets/controls",
            "_model_module_version": "1.5.0",
            "value": " 100/100 [00:35&lt;00:00,  2.82it/s]",
            "_view_count": null,
            "_view_module_version": "1.5.0",
            "description_tooltip": null,
            "_model_module": "@jupyter-widgets/controls",
            "layout": "IPY_MODEL_5ede8adac15a48ecbeb6afdf81660333"
          }
        },
        "6a34f17ad36a42d2b1442e608437be18": {
          "model_module": "@jupyter-widgets/controls",
          "model_name": "DescriptionStyleModel",
          "model_module_version": "1.5.0",
          "state": {
            "_view_name": "StyleView",
            "_model_name": "DescriptionStyleModel",
            "description_width": "",
            "_view_module": "@jupyter-widgets/base",
            "_model_module_version": "1.5.0",
            "_view_count": null,
            "_view_module_version": "1.2.0",
            "_model_module": "@jupyter-widgets/controls"
          }
        },
        "e96ee4fdf6af479d943dbf8b73705653": {
          "model_module": "@jupyter-widgets/base",
          "model_name": "LayoutModel",
          "model_module_version": "1.2.0",
          "state": {
            "_view_name": "LayoutView",
            "grid_template_rows": null,
            "right": null,
            "justify_content": null,
            "_view_module": "@jupyter-widgets/base",
            "overflow": null,
            "_model_module_version": "1.2.0",
            "_view_count": null,
            "flex_flow": null,
            "width": null,
            "min_width": null,
            "border": null,
            "align_items": null,
            "bottom": null,
            "_model_module": "@jupyter-widgets/base",
            "top": null,
            "grid_column": null,
            "overflow_y": null,
            "overflow_x": null,
            "grid_auto_flow": null,
            "grid_area": null,
            "grid_template_columns": null,
            "flex": null,
            "_model_name": "LayoutModel",
            "justify_items": null,
            "grid_row": null,
            "max_height": null,
            "align_content": null,
            "visibility": null,
            "align_self": null,
            "height": null,
            "min_height": null,
            "padding": null,
            "grid_auto_rows": null,
            "grid_gap": null,
            "max_width": null,
            "order": null,
            "_view_module_version": "1.2.0",
            "grid_template_areas": null,
            "object_position": null,
            "object_fit": null,
            "grid_auto_columns": null,
            "margin": null,
            "display": null,
            "left": null
          }
        },
        "7ebf697395f546fb9dea41153b18b822": {
          "model_module": "@jupyter-widgets/controls",
          "model_name": "ProgressStyleModel",
          "model_module_version": "1.5.0",
          "state": {
            "_view_name": "StyleView",
            "_model_name": "ProgressStyleModel",
            "description_width": "",
            "_view_module": "@jupyter-widgets/base",
            "_model_module_version": "1.5.0",
            "_view_count": null,
            "_view_module_version": "1.2.0",
            "bar_color": null,
            "_model_module": "@jupyter-widgets/controls"
          }
        },
        "d2bfc18e12fc4151887d79b9d97c2d86": {
          "model_module": "@jupyter-widgets/base",
          "model_name": "LayoutModel",
          "model_module_version": "1.2.0",
          "state": {
            "_view_name": "LayoutView",
            "grid_template_rows": null,
            "right": null,
            "justify_content": null,
            "_view_module": "@jupyter-widgets/base",
            "overflow": null,
            "_model_module_version": "1.2.0",
            "_view_count": null,
            "flex_flow": null,
            "width": null,
            "min_width": null,
            "border": null,
            "align_items": null,
            "bottom": null,
            "_model_module": "@jupyter-widgets/base",
            "top": null,
            "grid_column": null,
            "overflow_y": null,
            "overflow_x": null,
            "grid_auto_flow": null,
            "grid_area": null,
            "grid_template_columns": null,
            "flex": null,
            "_model_name": "LayoutModel",
            "justify_items": null,
            "grid_row": null,
            "max_height": null,
            "align_content": null,
            "visibility": null,
            "align_self": null,
            "height": null,
            "min_height": null,
            "padding": null,
            "grid_auto_rows": null,
            "grid_gap": null,
            "max_width": null,
            "order": null,
            "_view_module_version": "1.2.0",
            "grid_template_areas": null,
            "object_position": null,
            "object_fit": null,
            "grid_auto_columns": null,
            "margin": null,
            "display": null,
            "left": null
          }
        },
        "5170c4586c0c45aeae1adcd88aa887ff": {
          "model_module": "@jupyter-widgets/controls",
          "model_name": "DescriptionStyleModel",
          "model_module_version": "1.5.0",
          "state": {
            "_view_name": "StyleView",
            "_model_name": "DescriptionStyleModel",
            "description_width": "",
            "_view_module": "@jupyter-widgets/base",
            "_model_module_version": "1.5.0",
            "_view_count": null,
            "_view_module_version": "1.2.0",
            "_model_module": "@jupyter-widgets/controls"
          }
        },
        "5ede8adac15a48ecbeb6afdf81660333": {
          "model_module": "@jupyter-widgets/base",
          "model_name": "LayoutModel",
          "model_module_version": "1.2.0",
          "state": {
            "_view_name": "LayoutView",
            "grid_template_rows": null,
            "right": null,
            "justify_content": null,
            "_view_module": "@jupyter-widgets/base",
            "overflow": null,
            "_model_module_version": "1.2.0",
            "_view_count": null,
            "flex_flow": null,
            "width": null,
            "min_width": null,
            "border": null,
            "align_items": null,
            "bottom": null,
            "_model_module": "@jupyter-widgets/base",
            "top": null,
            "grid_column": null,
            "overflow_y": null,
            "overflow_x": null,
            "grid_auto_flow": null,
            "grid_area": null,
            "grid_template_columns": null,
            "flex": null,
            "_model_name": "LayoutModel",
            "justify_items": null,
            "grid_row": null,
            "max_height": null,
            "align_content": null,
            "visibility": null,
            "align_self": null,
            "height": null,
            "min_height": null,
            "padding": null,
            "grid_auto_rows": null,
            "grid_gap": null,
            "max_width": null,
            "order": null,
            "_view_module_version": "1.2.0",
            "grid_template_areas": null,
            "object_position": null,
            "object_fit": null,
            "grid_auto_columns": null,
            "margin": null,
            "display": null,
            "left": null
          }
        },
        "4edbbca064a9471185883713e8390f39": {
          "model_module": "@jupyter-widgets/controls",
          "model_name": "HBoxModel",
          "model_module_version": "1.5.0",
          "state": {
            "_view_name": "HBoxView",
            "_dom_classes": [],
            "_model_name": "HBoxModel",
            "_view_module": "@jupyter-widgets/controls",
            "_model_module_version": "1.5.0",
            "_view_count": null,
            "_view_module_version": "1.5.0",
            "box_style": "",
            "layout": "IPY_MODEL_19ede5b01dd445aca7fc9127a21f715a",
            "_model_module": "@jupyter-widgets/controls",
            "children": [
              "IPY_MODEL_c00fd37f76944594824472ecabcb3a8b",
              "IPY_MODEL_69fd186bd6aa49b38156cec573adc39d",
              "IPY_MODEL_768284ccb73e4c449253ea1f55bb9a8b"
            ]
          }
        },
        "19ede5b01dd445aca7fc9127a21f715a": {
          "model_module": "@jupyter-widgets/base",
          "model_name": "LayoutModel",
          "model_module_version": "1.2.0",
          "state": {
            "_view_name": "LayoutView",
            "grid_template_rows": null,
            "right": null,
            "justify_content": null,
            "_view_module": "@jupyter-widgets/base",
            "overflow": null,
            "_model_module_version": "1.2.0",
            "_view_count": null,
            "flex_flow": null,
            "width": null,
            "min_width": null,
            "border": null,
            "align_items": null,
            "bottom": null,
            "_model_module": "@jupyter-widgets/base",
            "top": null,
            "grid_column": null,
            "overflow_y": null,
            "overflow_x": null,
            "grid_auto_flow": null,
            "grid_area": null,
            "grid_template_columns": null,
            "flex": null,
            "_model_name": "LayoutModel",
            "justify_items": null,
            "grid_row": null,
            "max_height": null,
            "align_content": null,
            "visibility": null,
            "align_self": null,
            "height": null,
            "min_height": null,
            "padding": null,
            "grid_auto_rows": null,
            "grid_gap": null,
            "max_width": null,
            "order": null,
            "_view_module_version": "1.2.0",
            "grid_template_areas": null,
            "object_position": null,
            "object_fit": null,
            "grid_auto_columns": null,
            "margin": null,
            "display": null,
            "left": null
          }
        },
        "c00fd37f76944594824472ecabcb3a8b": {
          "model_module": "@jupyter-widgets/controls",
          "model_name": "HTMLModel",
          "model_module_version": "1.5.0",
          "state": {
            "_view_name": "HTMLView",
            "style": "IPY_MODEL_365d954c6a1c443f8fd34472a28b32b8",
            "_dom_classes": [],
            "description": "",
            "_model_name": "HTMLModel",
            "placeholder": "​",
            "_view_module": "@jupyter-widgets/controls",
            "_model_module_version": "1.5.0",
            "value": "accum_0: 100%",
            "_view_count": null,
            "_view_module_version": "1.5.0",
            "description_tooltip": null,
            "_model_module": "@jupyter-widgets/controls",
            "layout": "IPY_MODEL_d56701e9029343649c362f3a5086f11b"
          }
        },
        "69fd186bd6aa49b38156cec573adc39d": {
          "model_module": "@jupyter-widgets/controls",
          "model_name": "FloatProgressModel",
          "model_module_version": "1.5.0",
          "state": {
            "_view_name": "ProgressView",
            "style": "IPY_MODEL_40553d6b01fa4f6ea760ec8974776c8a",
            "_dom_classes": [],
            "description": "",
            "_model_name": "FloatProgressModel",
            "bar_style": "success",
            "max": 100,
            "_view_module": "@jupyter-widgets/controls",
            "_model_module_version": "1.5.0",
            "value": 100,
            "_view_count": null,
            "_view_module_version": "1.5.0",
            "orientation": "horizontal",
            "min": 0,
            "description_tooltip": null,
            "_model_module": "@jupyter-widgets/controls",
            "layout": "IPY_MODEL_311c5628e2b04eee9ea5b0f99dc8ad1e"
          }
        },
        "768284ccb73e4c449253ea1f55bb9a8b": {
          "model_module": "@jupyter-widgets/controls",
          "model_name": "HTMLModel",
          "model_module_version": "1.5.0",
          "state": {
            "_view_name": "HTMLView",
            "style": "IPY_MODEL_2d780ea902c3457bae16718abb565127",
            "_dom_classes": [],
            "description": "",
            "_model_name": "HTMLModel",
            "placeholder": "​",
            "_view_module": "@jupyter-widgets/controls",
            "_model_module_version": "1.5.0",
            "value": " 100/100 [00:34&lt;00:00,  2.88it/s]",
            "_view_count": null,
            "_view_module_version": "1.5.0",
            "description_tooltip": null,
            "_model_module": "@jupyter-widgets/controls",
            "layout": "IPY_MODEL_e085810c1f784d989a5440f4f2d846e5"
          }
        },
        "365d954c6a1c443f8fd34472a28b32b8": {
          "model_module": "@jupyter-widgets/controls",
          "model_name": "DescriptionStyleModel",
          "model_module_version": "1.5.0",
          "state": {
            "_view_name": "StyleView",
            "_model_name": "DescriptionStyleModel",
            "description_width": "",
            "_view_module": "@jupyter-widgets/base",
            "_model_module_version": "1.5.0",
            "_view_count": null,
            "_view_module_version": "1.2.0",
            "_model_module": "@jupyter-widgets/controls"
          }
        },
        "d56701e9029343649c362f3a5086f11b": {
          "model_module": "@jupyter-widgets/base",
          "model_name": "LayoutModel",
          "model_module_version": "1.2.0",
          "state": {
            "_view_name": "LayoutView",
            "grid_template_rows": null,
            "right": null,
            "justify_content": null,
            "_view_module": "@jupyter-widgets/base",
            "overflow": null,
            "_model_module_version": "1.2.0",
            "_view_count": null,
            "flex_flow": null,
            "width": null,
            "min_width": null,
            "border": null,
            "align_items": null,
            "bottom": null,
            "_model_module": "@jupyter-widgets/base",
            "top": null,
            "grid_column": null,
            "overflow_y": null,
            "overflow_x": null,
            "grid_auto_flow": null,
            "grid_area": null,
            "grid_template_columns": null,
            "flex": null,
            "_model_name": "LayoutModel",
            "justify_items": null,
            "grid_row": null,
            "max_height": null,
            "align_content": null,
            "visibility": null,
            "align_self": null,
            "height": null,
            "min_height": null,
            "padding": null,
            "grid_auto_rows": null,
            "grid_gap": null,
            "max_width": null,
            "order": null,
            "_view_module_version": "1.2.0",
            "grid_template_areas": null,
            "object_position": null,
            "object_fit": null,
            "grid_auto_columns": null,
            "margin": null,
            "display": null,
            "left": null
          }
        },
        "40553d6b01fa4f6ea760ec8974776c8a": {
          "model_module": "@jupyter-widgets/controls",
          "model_name": "ProgressStyleModel",
          "model_module_version": "1.5.0",
          "state": {
            "_view_name": "StyleView",
            "_model_name": "ProgressStyleModel",
            "description_width": "",
            "_view_module": "@jupyter-widgets/base",
            "_model_module_version": "1.5.0",
            "_view_count": null,
            "_view_module_version": "1.2.0",
            "bar_color": null,
            "_model_module": "@jupyter-widgets/controls"
          }
        },
        "311c5628e2b04eee9ea5b0f99dc8ad1e": {
          "model_module": "@jupyter-widgets/base",
          "model_name": "LayoutModel",
          "model_module_version": "1.2.0",
          "state": {
            "_view_name": "LayoutView",
            "grid_template_rows": null,
            "right": null,
            "justify_content": null,
            "_view_module": "@jupyter-widgets/base",
            "overflow": null,
            "_model_module_version": "1.2.0",
            "_view_count": null,
            "flex_flow": null,
            "width": null,
            "min_width": null,
            "border": null,
            "align_items": null,
            "bottom": null,
            "_model_module": "@jupyter-widgets/base",
            "top": null,
            "grid_column": null,
            "overflow_y": null,
            "overflow_x": null,
            "grid_auto_flow": null,
            "grid_area": null,
            "grid_template_columns": null,
            "flex": null,
            "_model_name": "LayoutModel",
            "justify_items": null,
            "grid_row": null,
            "max_height": null,
            "align_content": null,
            "visibility": null,
            "align_self": null,
            "height": null,
            "min_height": null,
            "padding": null,
            "grid_auto_rows": null,
            "grid_gap": null,
            "max_width": null,
            "order": null,
            "_view_module_version": "1.2.0",
            "grid_template_areas": null,
            "object_position": null,
            "object_fit": null,
            "grid_auto_columns": null,
            "margin": null,
            "display": null,
            "left": null
          }
        },
        "2d780ea902c3457bae16718abb565127": {
          "model_module": "@jupyter-widgets/controls",
          "model_name": "DescriptionStyleModel",
          "model_module_version": "1.5.0",
          "state": {
            "_view_name": "StyleView",
            "_model_name": "DescriptionStyleModel",
            "description_width": "",
            "_view_module": "@jupyter-widgets/base",
            "_model_module_version": "1.5.0",
            "_view_count": null,
            "_view_module_version": "1.2.0",
            "_model_module": "@jupyter-widgets/controls"
          }
        },
        "e085810c1f784d989a5440f4f2d846e5": {
          "model_module": "@jupyter-widgets/base",
          "model_name": "LayoutModel",
          "model_module_version": "1.2.0",
          "state": {
            "_view_name": "LayoutView",
            "grid_template_rows": null,
            "right": null,
            "justify_content": null,
            "_view_module": "@jupyter-widgets/base",
            "overflow": null,
            "_model_module_version": "1.2.0",
            "_view_count": null,
            "flex_flow": null,
            "width": null,
            "min_width": null,
            "border": null,
            "align_items": null,
            "bottom": null,
            "_model_module": "@jupyter-widgets/base",
            "top": null,
            "grid_column": null,
            "overflow_y": null,
            "overflow_x": null,
            "grid_auto_flow": null,
            "grid_area": null,
            "grid_template_columns": null,
            "flex": null,
            "_model_name": "LayoutModel",
            "justify_items": null,
            "grid_row": null,
            "max_height": null,
            "align_content": null,
            "visibility": null,
            "align_self": null,
            "height": null,
            "min_height": null,
            "padding": null,
            "grid_auto_rows": null,
            "grid_gap": null,
            "max_width": null,
            "order": null,
            "_view_module_version": "1.2.0",
            "grid_template_areas": null,
            "object_position": null,
            "object_fit": null,
            "grid_auto_columns": null,
            "margin": null,
            "display": null,
            "left": null
          }
        },
        "3ff28e41c7e24c96b94fa4e2be851ec6": {
          "model_module": "@jupyter-widgets/controls",
          "model_name": "HBoxModel",
          "model_module_version": "1.5.0",
          "state": {
            "_view_name": "HBoxView",
            "_dom_classes": [],
            "_model_name": "HBoxModel",
            "_view_module": "@jupyter-widgets/controls",
            "_model_module_version": "1.5.0",
            "_view_count": null,
            "_view_module_version": "1.5.0",
            "box_style": "",
            "layout": "IPY_MODEL_ac6a14d70a3644c9ad60de29cc2f2de8",
            "_model_module": "@jupyter-widgets/controls",
            "children": [
              "IPY_MODEL_e517634721cf412fa8334817cb4357e7",
              "IPY_MODEL_4753a0a22f8c4b7781574aaff4bae646",
              "IPY_MODEL_026b2252a9be42c99f109351f14b1c6d"
            ]
          }
        },
        "ac6a14d70a3644c9ad60de29cc2f2de8": {
          "model_module": "@jupyter-widgets/base",
          "model_name": "LayoutModel",
          "model_module_version": "1.2.0",
          "state": {
            "_view_name": "LayoutView",
            "grid_template_rows": null,
            "right": null,
            "justify_content": null,
            "_view_module": "@jupyter-widgets/base",
            "overflow": null,
            "_model_module_version": "1.2.0",
            "_view_count": null,
            "flex_flow": null,
            "width": null,
            "min_width": null,
            "border": null,
            "align_items": null,
            "bottom": null,
            "_model_module": "@jupyter-widgets/base",
            "top": null,
            "grid_column": null,
            "overflow_y": null,
            "overflow_x": null,
            "grid_auto_flow": null,
            "grid_area": null,
            "grid_template_columns": null,
            "flex": null,
            "_model_name": "LayoutModel",
            "justify_items": null,
            "grid_row": null,
            "max_height": null,
            "align_content": null,
            "visibility": null,
            "align_self": null,
            "height": null,
            "min_height": null,
            "padding": null,
            "grid_auto_rows": null,
            "grid_gap": null,
            "max_width": null,
            "order": null,
            "_view_module_version": "1.2.0",
            "grid_template_areas": null,
            "object_position": null,
            "object_fit": null,
            "grid_auto_columns": null,
            "margin": null,
            "display": null,
            "left": null
          }
        },
        "e517634721cf412fa8334817cb4357e7": {
          "model_module": "@jupyter-widgets/controls",
          "model_name": "HTMLModel",
          "model_module_version": "1.5.0",
          "state": {
            "_view_name": "HTMLView",
            "style": "IPY_MODEL_23cd0971b5bd42db8769e5a636eeaef2",
            "_dom_classes": [],
            "description": "",
            "_model_name": "HTMLModel",
            "placeholder": "​",
            "_view_module": "@jupyter-widgets/controls",
            "_model_module_version": "1.5.0",
            "value": "accum_1: 100%",
            "_view_count": null,
            "_view_module_version": "1.5.0",
            "description_tooltip": null,
            "_model_module": "@jupyter-widgets/controls",
            "layout": "IPY_MODEL_84a09154e4dd44089f6e93a1d8501c6b"
          }
        },
        "4753a0a22f8c4b7781574aaff4bae646": {
          "model_module": "@jupyter-widgets/controls",
          "model_name": "FloatProgressModel",
          "model_module_version": "1.5.0",
          "state": {
            "_view_name": "ProgressView",
            "style": "IPY_MODEL_a16fa5b67b524ed985452456f6a9ba07",
            "_dom_classes": [],
            "description": "",
            "_model_name": "FloatProgressModel",
            "bar_style": "success",
            "max": 100,
            "_view_module": "@jupyter-widgets/controls",
            "_model_module_version": "1.5.0",
            "value": 100,
            "_view_count": null,
            "_view_module_version": "1.5.0",
            "orientation": "horizontal",
            "min": 0,
            "description_tooltip": null,
            "_model_module": "@jupyter-widgets/controls",
            "layout": "IPY_MODEL_0dd99270830d4f16a9456953ac5a8da6"
          }
        },
        "026b2252a9be42c99f109351f14b1c6d": {
          "model_module": "@jupyter-widgets/controls",
          "model_name": "HTMLModel",
          "model_module_version": "1.5.0",
          "state": {
            "_view_name": "HTMLView",
            "style": "IPY_MODEL_38e76a57e7f243309cf72c50e41478da",
            "_dom_classes": [],
            "description": "",
            "_model_name": "HTMLModel",
            "placeholder": "​",
            "_view_module": "@jupyter-widgets/controls",
            "_model_module_version": "1.5.0",
            "value": " 100/100 [00:34&lt;00:00,  2.87it/s]",
            "_view_count": null,
            "_view_module_version": "1.5.0",
            "description_tooltip": null,
            "_model_module": "@jupyter-widgets/controls",
            "layout": "IPY_MODEL_91cef42926d047c89f693ad1ca950afd"
          }
        },
        "23cd0971b5bd42db8769e5a636eeaef2": {
          "model_module": "@jupyter-widgets/controls",
          "model_name": "DescriptionStyleModel",
          "model_module_version": "1.5.0",
          "state": {
            "_view_name": "StyleView",
            "_model_name": "DescriptionStyleModel",
            "description_width": "",
            "_view_module": "@jupyter-widgets/base",
            "_model_module_version": "1.5.0",
            "_view_count": null,
            "_view_module_version": "1.2.0",
            "_model_module": "@jupyter-widgets/controls"
          }
        },
        "84a09154e4dd44089f6e93a1d8501c6b": {
          "model_module": "@jupyter-widgets/base",
          "model_name": "LayoutModel",
          "model_module_version": "1.2.0",
          "state": {
            "_view_name": "LayoutView",
            "grid_template_rows": null,
            "right": null,
            "justify_content": null,
            "_view_module": "@jupyter-widgets/base",
            "overflow": null,
            "_model_module_version": "1.2.0",
            "_view_count": null,
            "flex_flow": null,
            "width": null,
            "min_width": null,
            "border": null,
            "align_items": null,
            "bottom": null,
            "_model_module": "@jupyter-widgets/base",
            "top": null,
            "grid_column": null,
            "overflow_y": null,
            "overflow_x": null,
            "grid_auto_flow": null,
            "grid_area": null,
            "grid_template_columns": null,
            "flex": null,
            "_model_name": "LayoutModel",
            "justify_items": null,
            "grid_row": null,
            "max_height": null,
            "align_content": null,
            "visibility": null,
            "align_self": null,
            "height": null,
            "min_height": null,
            "padding": null,
            "grid_auto_rows": null,
            "grid_gap": null,
            "max_width": null,
            "order": null,
            "_view_module_version": "1.2.0",
            "grid_template_areas": null,
            "object_position": null,
            "object_fit": null,
            "grid_auto_columns": null,
            "margin": null,
            "display": null,
            "left": null
          }
        },
        "a16fa5b67b524ed985452456f6a9ba07": {
          "model_module": "@jupyter-widgets/controls",
          "model_name": "ProgressStyleModel",
          "model_module_version": "1.5.0",
          "state": {
            "_view_name": "StyleView",
            "_model_name": "ProgressStyleModel",
            "description_width": "",
            "_view_module": "@jupyter-widgets/base",
            "_model_module_version": "1.5.0",
            "_view_count": null,
            "_view_module_version": "1.2.0",
            "bar_color": null,
            "_model_module": "@jupyter-widgets/controls"
          }
        },
        "0dd99270830d4f16a9456953ac5a8da6": {
          "model_module": "@jupyter-widgets/base",
          "model_name": "LayoutModel",
          "model_module_version": "1.2.0",
          "state": {
            "_view_name": "LayoutView",
            "grid_template_rows": null,
            "right": null,
            "justify_content": null,
            "_view_module": "@jupyter-widgets/base",
            "overflow": null,
            "_model_module_version": "1.2.0",
            "_view_count": null,
            "flex_flow": null,
            "width": null,
            "min_width": null,
            "border": null,
            "align_items": null,
            "bottom": null,
            "_model_module": "@jupyter-widgets/base",
            "top": null,
            "grid_column": null,
            "overflow_y": null,
            "overflow_x": null,
            "grid_auto_flow": null,
            "grid_area": null,
            "grid_template_columns": null,
            "flex": null,
            "_model_name": "LayoutModel",
            "justify_items": null,
            "grid_row": null,
            "max_height": null,
            "align_content": null,
            "visibility": null,
            "align_self": null,
            "height": null,
            "min_height": null,
            "padding": null,
            "grid_auto_rows": null,
            "grid_gap": null,
            "max_width": null,
            "order": null,
            "_view_module_version": "1.2.0",
            "grid_template_areas": null,
            "object_position": null,
            "object_fit": null,
            "grid_auto_columns": null,
            "margin": null,
            "display": null,
            "left": null
          }
        },
        "38e76a57e7f243309cf72c50e41478da": {
          "model_module": "@jupyter-widgets/controls",
          "model_name": "DescriptionStyleModel",
          "model_module_version": "1.5.0",
          "state": {
            "_view_name": "StyleView",
            "_model_name": "DescriptionStyleModel",
            "description_width": "",
            "_view_module": "@jupyter-widgets/base",
            "_model_module_version": "1.5.0",
            "_view_count": null,
            "_view_module_version": "1.2.0",
            "_model_module": "@jupyter-widgets/controls"
          }
        },
        "91cef42926d047c89f693ad1ca950afd": {
          "model_module": "@jupyter-widgets/base",
          "model_name": "LayoutModel",
          "model_module_version": "1.2.0",
          "state": {
            "_view_name": "LayoutView",
            "grid_template_rows": null,
            "right": null,
            "justify_content": null,
            "_view_module": "@jupyter-widgets/base",
            "overflow": null,
            "_model_module_version": "1.2.0",
            "_view_count": null,
            "flex_flow": null,
            "width": null,
            "min_width": null,
            "border": null,
            "align_items": null,
            "bottom": null,
            "_model_module": "@jupyter-widgets/base",
            "top": null,
            "grid_column": null,
            "overflow_y": null,
            "overflow_x": null,
            "grid_auto_flow": null,
            "grid_area": null,
            "grid_template_columns": null,
            "flex": null,
            "_model_name": "LayoutModel",
            "justify_items": null,
            "grid_row": null,
            "max_height": null,
            "align_content": null,
            "visibility": null,
            "align_self": null,
            "height": null,
            "min_height": null,
            "padding": null,
            "grid_auto_rows": null,
            "grid_gap": null,
            "max_width": null,
            "order": null,
            "_view_module_version": "1.2.0",
            "grid_template_areas": null,
            "object_position": null,
            "object_fit": null,
            "grid_auto_columns": null,
            "margin": null,
            "display": null,
            "left": null
          }
        },
        "0aca48b425084680b82907520f59b05f": {
          "model_module": "@jupyter-widgets/controls",
          "model_name": "HBoxModel",
          "model_module_version": "1.5.0",
          "state": {
            "_view_name": "HBoxView",
            "_dom_classes": [],
            "_model_name": "HBoxModel",
            "_view_module": "@jupyter-widgets/controls",
            "_model_module_version": "1.5.0",
            "_view_count": null,
            "_view_module_version": "1.5.0",
            "box_style": "",
            "layout": "IPY_MODEL_9ef42dbe93d04383aad6da293729d53f",
            "_model_module": "@jupyter-widgets/controls",
            "children": [
              "IPY_MODEL_de36c1da8bc64580a596f84fe5c8467f",
              "IPY_MODEL_2f33f55fa2504ab9b2625c46725e5bee",
              "IPY_MODEL_20e93cde3ced4576978d34ac60b3cea8"
            ]
          }
        },
        "9ef42dbe93d04383aad6da293729d53f": {
          "model_module": "@jupyter-widgets/base",
          "model_name": "LayoutModel",
          "model_module_version": "1.2.0",
          "state": {
            "_view_name": "LayoutView",
            "grid_template_rows": null,
            "right": null,
            "justify_content": null,
            "_view_module": "@jupyter-widgets/base",
            "overflow": null,
            "_model_module_version": "1.2.0",
            "_view_count": null,
            "flex_flow": null,
            "width": null,
            "min_width": null,
            "border": null,
            "align_items": null,
            "bottom": null,
            "_model_module": "@jupyter-widgets/base",
            "top": null,
            "grid_column": null,
            "overflow_y": null,
            "overflow_x": null,
            "grid_auto_flow": null,
            "grid_area": null,
            "grid_template_columns": null,
            "flex": null,
            "_model_name": "LayoutModel",
            "justify_items": null,
            "grid_row": null,
            "max_height": null,
            "align_content": null,
            "visibility": null,
            "align_self": null,
            "height": null,
            "min_height": null,
            "padding": null,
            "grid_auto_rows": null,
            "grid_gap": null,
            "max_width": null,
            "order": null,
            "_view_module_version": "1.2.0",
            "grid_template_areas": null,
            "object_position": null,
            "object_fit": null,
            "grid_auto_columns": null,
            "margin": null,
            "display": null,
            "left": null
          }
        },
        "de36c1da8bc64580a596f84fe5c8467f": {
          "model_module": "@jupyter-widgets/controls",
          "model_name": "HTMLModel",
          "model_module_version": "1.5.0",
          "state": {
            "_view_name": "HTMLView",
            "style": "IPY_MODEL_f8b7f41f6d554d70a3bb3bae8f86b25c",
            "_dom_classes": [],
            "description": "",
            "_model_name": "HTMLModel",
            "placeholder": "​",
            "_view_module": "@jupyter-widgets/controls",
            "_model_module_version": "1.5.0",
            "value": "accum_1: 100%",
            "_view_count": null,
            "_view_module_version": "1.5.0",
            "description_tooltip": null,
            "_model_module": "@jupyter-widgets/controls",
            "layout": "IPY_MODEL_f35b8f2f25984e6882985b5c0b366031"
          }
        },
        "2f33f55fa2504ab9b2625c46725e5bee": {
          "model_module": "@jupyter-widgets/controls",
          "model_name": "FloatProgressModel",
          "model_module_version": "1.5.0",
          "state": {
            "_view_name": "ProgressView",
            "style": "IPY_MODEL_adb5741d8af4431882f0c959e2b301da",
            "_dom_classes": [],
            "description": "",
            "_model_name": "FloatProgressModel",
            "bar_style": "success",
            "max": 100,
            "_view_module": "@jupyter-widgets/controls",
            "_model_module_version": "1.5.0",
            "value": 100,
            "_view_count": null,
            "_view_module_version": "1.5.0",
            "orientation": "horizontal",
            "min": 0,
            "description_tooltip": null,
            "_model_module": "@jupyter-widgets/controls",
            "layout": "IPY_MODEL_52eceef8ae4c4bc587e57a5a8235e775"
          }
        },
        "20e93cde3ced4576978d34ac60b3cea8": {
          "model_module": "@jupyter-widgets/controls",
          "model_name": "HTMLModel",
          "model_module_version": "1.5.0",
          "state": {
            "_view_name": "HTMLView",
            "style": "IPY_MODEL_bd5b5ff9071e463b86b68ed3fe668bd1",
            "_dom_classes": [],
            "description": "",
            "_model_name": "HTMLModel",
            "placeholder": "​",
            "_view_module": "@jupyter-widgets/controls",
            "_model_module_version": "1.5.0",
            "value": " 100/100 [00:34&lt;00:00,  2.95it/s]",
            "_view_count": null,
            "_view_module_version": "1.5.0",
            "description_tooltip": null,
            "_model_module": "@jupyter-widgets/controls",
            "layout": "IPY_MODEL_8c62e94ab4d24f4bb89333e47d068c46"
          }
        },
        "f8b7f41f6d554d70a3bb3bae8f86b25c": {
          "model_module": "@jupyter-widgets/controls",
          "model_name": "DescriptionStyleModel",
          "model_module_version": "1.5.0",
          "state": {
            "_view_name": "StyleView",
            "_model_name": "DescriptionStyleModel",
            "description_width": "",
            "_view_module": "@jupyter-widgets/base",
            "_model_module_version": "1.5.0",
            "_view_count": null,
            "_view_module_version": "1.2.0",
            "_model_module": "@jupyter-widgets/controls"
          }
        },
        "f35b8f2f25984e6882985b5c0b366031": {
          "model_module": "@jupyter-widgets/base",
          "model_name": "LayoutModel",
          "model_module_version": "1.2.0",
          "state": {
            "_view_name": "LayoutView",
            "grid_template_rows": null,
            "right": null,
            "justify_content": null,
            "_view_module": "@jupyter-widgets/base",
            "overflow": null,
            "_model_module_version": "1.2.0",
            "_view_count": null,
            "flex_flow": null,
            "width": null,
            "min_width": null,
            "border": null,
            "align_items": null,
            "bottom": null,
            "_model_module": "@jupyter-widgets/base",
            "top": null,
            "grid_column": null,
            "overflow_y": null,
            "overflow_x": null,
            "grid_auto_flow": null,
            "grid_area": null,
            "grid_template_columns": null,
            "flex": null,
            "_model_name": "LayoutModel",
            "justify_items": null,
            "grid_row": null,
            "max_height": null,
            "align_content": null,
            "visibility": null,
            "align_self": null,
            "height": null,
            "min_height": null,
            "padding": null,
            "grid_auto_rows": null,
            "grid_gap": null,
            "max_width": null,
            "order": null,
            "_view_module_version": "1.2.0",
            "grid_template_areas": null,
            "object_position": null,
            "object_fit": null,
            "grid_auto_columns": null,
            "margin": null,
            "display": null,
            "left": null
          }
        },
        "adb5741d8af4431882f0c959e2b301da": {
          "model_module": "@jupyter-widgets/controls",
          "model_name": "ProgressStyleModel",
          "model_module_version": "1.5.0",
          "state": {
            "_view_name": "StyleView",
            "_model_name": "ProgressStyleModel",
            "description_width": "",
            "_view_module": "@jupyter-widgets/base",
            "_model_module_version": "1.5.0",
            "_view_count": null,
            "_view_module_version": "1.2.0",
            "bar_color": null,
            "_model_module": "@jupyter-widgets/controls"
          }
        },
        "52eceef8ae4c4bc587e57a5a8235e775": {
          "model_module": "@jupyter-widgets/base",
          "model_name": "LayoutModel",
          "model_module_version": "1.2.0",
          "state": {
            "_view_name": "LayoutView",
            "grid_template_rows": null,
            "right": null,
            "justify_content": null,
            "_view_module": "@jupyter-widgets/base",
            "overflow": null,
            "_model_module_version": "1.2.0",
            "_view_count": null,
            "flex_flow": null,
            "width": null,
            "min_width": null,
            "border": null,
            "align_items": null,
            "bottom": null,
            "_model_module": "@jupyter-widgets/base",
            "top": null,
            "grid_column": null,
            "overflow_y": null,
            "overflow_x": null,
            "grid_auto_flow": null,
            "grid_area": null,
            "grid_template_columns": null,
            "flex": null,
            "_model_name": "LayoutModel",
            "justify_items": null,
            "grid_row": null,
            "max_height": null,
            "align_content": null,
            "visibility": null,
            "align_self": null,
            "height": null,
            "min_height": null,
            "padding": null,
            "grid_auto_rows": null,
            "grid_gap": null,
            "max_width": null,
            "order": null,
            "_view_module_version": "1.2.0",
            "grid_template_areas": null,
            "object_position": null,
            "object_fit": null,
            "grid_auto_columns": null,
            "margin": null,
            "display": null,
            "left": null
          }
        },
        "bd5b5ff9071e463b86b68ed3fe668bd1": {
          "model_module": "@jupyter-widgets/controls",
          "model_name": "DescriptionStyleModel",
          "model_module_version": "1.5.0",
          "state": {
            "_view_name": "StyleView",
            "_model_name": "DescriptionStyleModel",
            "description_width": "",
            "_view_module": "@jupyter-widgets/base",
            "_model_module_version": "1.5.0",
            "_view_count": null,
            "_view_module_version": "1.2.0",
            "_model_module": "@jupyter-widgets/controls"
          }
        },
        "8c62e94ab4d24f4bb89333e47d068c46": {
          "model_module": "@jupyter-widgets/base",
          "model_name": "LayoutModel",
          "model_module_version": "1.2.0",
          "state": {
            "_view_name": "LayoutView",
            "grid_template_rows": null,
            "right": null,
            "justify_content": null,
            "_view_module": "@jupyter-widgets/base",
            "overflow": null,
            "_model_module_version": "1.2.0",
            "_view_count": null,
            "flex_flow": null,
            "width": null,
            "min_width": null,
            "border": null,
            "align_items": null,
            "bottom": null,
            "_model_module": "@jupyter-widgets/base",
            "top": null,
            "grid_column": null,
            "overflow_y": null,
            "overflow_x": null,
            "grid_auto_flow": null,
            "grid_area": null,
            "grid_template_columns": null,
            "flex": null,
            "_model_name": "LayoutModel",
            "justify_items": null,
            "grid_row": null,
            "max_height": null,
            "align_content": null,
            "visibility": null,
            "align_self": null,
            "height": null,
            "min_height": null,
            "padding": null,
            "grid_auto_rows": null,
            "grid_gap": null,
            "max_width": null,
            "order": null,
            "_view_module_version": "1.2.0",
            "grid_template_areas": null,
            "object_position": null,
            "object_fit": null,
            "grid_auto_columns": null,
            "margin": null,
            "display": null,
            "left": null
          }
        },
        "beba25ada8d8404c8baea3ee5f16a37e": {
          "model_module": "@jupyter-widgets/controls",
          "model_name": "HBoxModel",
          "model_module_version": "1.5.0",
          "state": {
            "_view_name": "HBoxView",
            "_dom_classes": [],
            "_model_name": "HBoxModel",
            "_view_module": "@jupyter-widgets/controls",
            "_model_module_version": "1.5.0",
            "_view_count": null,
            "_view_module_version": "1.5.0",
            "box_style": "",
            "layout": "IPY_MODEL_5c87550798cc4041b93069465504ebe3",
            "_model_module": "@jupyter-widgets/controls",
            "children": [
              "IPY_MODEL_031c2fcca484499cbd5c3564079bdf5e",
              "IPY_MODEL_3d1d1312a15148219413370efc476ef8",
              "IPY_MODEL_e61f0398a3e747c5aa3439a33be0e633"
            ]
          }
        },
        "5c87550798cc4041b93069465504ebe3": {
          "model_module": "@jupyter-widgets/base",
          "model_name": "LayoutModel",
          "model_module_version": "1.2.0",
          "state": {
            "_view_name": "LayoutView",
            "grid_template_rows": null,
            "right": null,
            "justify_content": null,
            "_view_module": "@jupyter-widgets/base",
            "overflow": null,
            "_model_module_version": "1.2.0",
            "_view_count": null,
            "flex_flow": null,
            "width": null,
            "min_width": null,
            "border": null,
            "align_items": null,
            "bottom": null,
            "_model_module": "@jupyter-widgets/base",
            "top": null,
            "grid_column": null,
            "overflow_y": null,
            "overflow_x": null,
            "grid_auto_flow": null,
            "grid_area": null,
            "grid_template_columns": null,
            "flex": null,
            "_model_name": "LayoutModel",
            "justify_items": null,
            "grid_row": null,
            "max_height": null,
            "align_content": null,
            "visibility": null,
            "align_self": null,
            "height": null,
            "min_height": null,
            "padding": null,
            "grid_auto_rows": null,
            "grid_gap": null,
            "max_width": null,
            "order": null,
            "_view_module_version": "1.2.0",
            "grid_template_areas": null,
            "object_position": null,
            "object_fit": null,
            "grid_auto_columns": null,
            "margin": null,
            "display": null,
            "left": null
          }
        },
        "031c2fcca484499cbd5c3564079bdf5e": {
          "model_module": "@jupyter-widgets/controls",
          "model_name": "HTMLModel",
          "model_module_version": "1.5.0",
          "state": {
            "_view_name": "HTMLView",
            "style": "IPY_MODEL_6577c1a47e8441569c9a8db309b31cba",
            "_dom_classes": [],
            "description": "",
            "_model_name": "HTMLModel",
            "placeholder": "​",
            "_view_module": "@jupyter-widgets/controls",
            "_model_module_version": "1.5.0",
            "value": "accum_1: 100%",
            "_view_count": null,
            "_view_module_version": "1.5.0",
            "description_tooltip": null,
            "_model_module": "@jupyter-widgets/controls",
            "layout": "IPY_MODEL_92457e257e8c4447901efb814d5eeb64"
          }
        },
        "3d1d1312a15148219413370efc476ef8": {
          "model_module": "@jupyter-widgets/controls",
          "model_name": "FloatProgressModel",
          "model_module_version": "1.5.0",
          "state": {
            "_view_name": "ProgressView",
            "style": "IPY_MODEL_2659352190ba48cc91ec040a4b49ef47",
            "_dom_classes": [],
            "description": "",
            "_model_name": "FloatProgressModel",
            "bar_style": "success",
            "max": 100,
            "_view_module": "@jupyter-widgets/controls",
            "_model_module_version": "1.5.0",
            "value": 100,
            "_view_count": null,
            "_view_module_version": "1.5.0",
            "orientation": "horizontal",
            "min": 0,
            "description_tooltip": null,
            "_model_module": "@jupyter-widgets/controls",
            "layout": "IPY_MODEL_9e368352a6b54649b96036d9affa8122"
          }
        },
        "e61f0398a3e747c5aa3439a33be0e633": {
          "model_module": "@jupyter-widgets/controls",
          "model_name": "HTMLModel",
          "model_module_version": "1.5.0",
          "state": {
            "_view_name": "HTMLView",
            "style": "IPY_MODEL_432407d7a9d54cbdaff9e3e6e64b3ff4",
            "_dom_classes": [],
            "description": "",
            "_model_name": "HTMLModel",
            "placeholder": "​",
            "_view_module": "@jupyter-widgets/controls",
            "_model_module_version": "1.5.0",
            "value": " 100/100 [00:33&lt;00:00,  2.92it/s]",
            "_view_count": null,
            "_view_module_version": "1.5.0",
            "description_tooltip": null,
            "_model_module": "@jupyter-widgets/controls",
            "layout": "IPY_MODEL_db2b802d20a54687af2ce2a8baecf75d"
          }
        },
        "6577c1a47e8441569c9a8db309b31cba": {
          "model_module": "@jupyter-widgets/controls",
          "model_name": "DescriptionStyleModel",
          "model_module_version": "1.5.0",
          "state": {
            "_view_name": "StyleView",
            "_model_name": "DescriptionStyleModel",
            "description_width": "",
            "_view_module": "@jupyter-widgets/base",
            "_model_module_version": "1.5.0",
            "_view_count": null,
            "_view_module_version": "1.2.0",
            "_model_module": "@jupyter-widgets/controls"
          }
        },
        "92457e257e8c4447901efb814d5eeb64": {
          "model_module": "@jupyter-widgets/base",
          "model_name": "LayoutModel",
          "model_module_version": "1.2.0",
          "state": {
            "_view_name": "LayoutView",
            "grid_template_rows": null,
            "right": null,
            "justify_content": null,
            "_view_module": "@jupyter-widgets/base",
            "overflow": null,
            "_model_module_version": "1.2.0",
            "_view_count": null,
            "flex_flow": null,
            "width": null,
            "min_width": null,
            "border": null,
            "align_items": null,
            "bottom": null,
            "_model_module": "@jupyter-widgets/base",
            "top": null,
            "grid_column": null,
            "overflow_y": null,
            "overflow_x": null,
            "grid_auto_flow": null,
            "grid_area": null,
            "grid_template_columns": null,
            "flex": null,
            "_model_name": "LayoutModel",
            "justify_items": null,
            "grid_row": null,
            "max_height": null,
            "align_content": null,
            "visibility": null,
            "align_self": null,
            "height": null,
            "min_height": null,
            "padding": null,
            "grid_auto_rows": null,
            "grid_gap": null,
            "max_width": null,
            "order": null,
            "_view_module_version": "1.2.0",
            "grid_template_areas": null,
            "object_position": null,
            "object_fit": null,
            "grid_auto_columns": null,
            "margin": null,
            "display": null,
            "left": null
          }
        },
        "2659352190ba48cc91ec040a4b49ef47": {
          "model_module": "@jupyter-widgets/controls",
          "model_name": "ProgressStyleModel",
          "model_module_version": "1.5.0",
          "state": {
            "_view_name": "StyleView",
            "_model_name": "ProgressStyleModel",
            "description_width": "",
            "_view_module": "@jupyter-widgets/base",
            "_model_module_version": "1.5.0",
            "_view_count": null,
            "_view_module_version": "1.2.0",
            "bar_color": null,
            "_model_module": "@jupyter-widgets/controls"
          }
        },
        "9e368352a6b54649b96036d9affa8122": {
          "model_module": "@jupyter-widgets/base",
          "model_name": "LayoutModel",
          "model_module_version": "1.2.0",
          "state": {
            "_view_name": "LayoutView",
            "grid_template_rows": null,
            "right": null,
            "justify_content": null,
            "_view_module": "@jupyter-widgets/base",
            "overflow": null,
            "_model_module_version": "1.2.0",
            "_view_count": null,
            "flex_flow": null,
            "width": null,
            "min_width": null,
            "border": null,
            "align_items": null,
            "bottom": null,
            "_model_module": "@jupyter-widgets/base",
            "top": null,
            "grid_column": null,
            "overflow_y": null,
            "overflow_x": null,
            "grid_auto_flow": null,
            "grid_area": null,
            "grid_template_columns": null,
            "flex": null,
            "_model_name": "LayoutModel",
            "justify_items": null,
            "grid_row": null,
            "max_height": null,
            "align_content": null,
            "visibility": null,
            "align_self": null,
            "height": null,
            "min_height": null,
            "padding": null,
            "grid_auto_rows": null,
            "grid_gap": null,
            "max_width": null,
            "order": null,
            "_view_module_version": "1.2.0",
            "grid_template_areas": null,
            "object_position": null,
            "object_fit": null,
            "grid_auto_columns": null,
            "margin": null,
            "display": null,
            "left": null
          }
        },
        "432407d7a9d54cbdaff9e3e6e64b3ff4": {
          "model_module": "@jupyter-widgets/controls",
          "model_name": "DescriptionStyleModel",
          "model_module_version": "1.5.0",
          "state": {
            "_view_name": "StyleView",
            "_model_name": "DescriptionStyleModel",
            "description_width": "",
            "_view_module": "@jupyter-widgets/base",
            "_model_module_version": "1.5.0",
            "_view_count": null,
            "_view_module_version": "1.2.0",
            "_model_module": "@jupyter-widgets/controls"
          }
        },
        "db2b802d20a54687af2ce2a8baecf75d": {
          "model_module": "@jupyter-widgets/base",
          "model_name": "LayoutModel",
          "model_module_version": "1.2.0",
          "state": {
            "_view_name": "LayoutView",
            "grid_template_rows": null,
            "right": null,
            "justify_content": null,
            "_view_module": "@jupyter-widgets/base",
            "overflow": null,
            "_model_module_version": "1.2.0",
            "_view_count": null,
            "flex_flow": null,
            "width": null,
            "min_width": null,
            "border": null,
            "align_items": null,
            "bottom": null,
            "_model_module": "@jupyter-widgets/base",
            "top": null,
            "grid_column": null,
            "overflow_y": null,
            "overflow_x": null,
            "grid_auto_flow": null,
            "grid_area": null,
            "grid_template_columns": null,
            "flex": null,
            "_model_name": "LayoutModel",
            "justify_items": null,
            "grid_row": null,
            "max_height": null,
            "align_content": null,
            "visibility": null,
            "align_self": null,
            "height": null,
            "min_height": null,
            "padding": null,
            "grid_auto_rows": null,
            "grid_gap": null,
            "max_width": null,
            "order": null,
            "_view_module_version": "1.2.0",
            "grid_template_areas": null,
            "object_position": null,
            "object_fit": null,
            "grid_auto_columns": null,
            "margin": null,
            "display": null,
            "left": null
          }
        }
      }
    }
  },
  "cells": [
    {
      "cell_type": "markdown",
      "metadata": {
        "id": "view-in-github",
        "colab_type": "text"
      },
      "source": [
        "<a href=\"https://colab.research.google.com/github/azilberb/Zilberberg_BIX_F21/blob/main/Final_Project.ipynb\" target=\"_parent\"><img src=\"https://colab.research.google.com/assets/colab-badge.svg\" alt=\"Open In Colab\"/></a>"
      ]
    },
    {
      "cell_type": "markdown",
      "metadata": {
        "id": "NcGnAXGVqQK8"
      },
      "source": [
        "# Final Project -"
      ]
    },
    {
      "cell_type": "markdown",
      "metadata": {
        "id": "AKpMLKxT2uJD"
      },
      "source": [
        "## Background\n",
        "\n",
        "Foraging and the most efficient strategy for it is a constant issue for all animals, including humans.\n",
        "\n",
        "At it's core foraging is the act of obtaining resources with a cost. These resources tangible or informational, and the cost could be resources or oppurtunity.\n",
        "\n",
        "Examples-\n",
        "1. A squirrel using energy (a resource cost) looking for acorns (a tangible resource) in trees.\n",
        "2. A student reading an article online and gaining knowledge (an informational resource) for personal interest instead of studying for their final (an oppurtunity cost).\n",
        "\n",
        "There is an important similarity between the two examples: the resources are found in patches. Acorns are in patches by trees, and often in further smaller patches on the trees. And information is in patches by media (articles or books for example). This \"patching\" can be generalized to almost all resources.\n",
        "\n",
        "Furthermore it is important to note that the amount of new resource gained per unit of time will decrease as one forages in a patch. For our 2 examples: the less acorns there are in a tree the more difficult it is to find an acord, and the more you have already read an article the less there is to learn about the given topic.\n",
        "\n",
        "This leads us to our problem that we will be discussing today-\n",
        "What is the optimal time to spend in a patch and does the value of the resource effect this time?"
      ]
    },
    {
      "cell_type": "markdown",
      "metadata": {
        "id": "z8NXCIZ6wGft"
      },
      "source": [
        "The Marginal Value Theory, or MVT, claims that there is an algorithm that solves this issue: \n",
        "![image.png](data:image/png;base64,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)\n",
        "\n",
        "This graph shows that at the tangent point is the perfect time to switch patches in order to maximize reward."
      ]
    },
    {
      "cell_type": "markdown",
      "metadata": {
        "id": "ry0m9wezKLHo"
      },
      "source": [
        "![image.png](data:image/png;base64,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)\n",
        "\n",
        "In addition MVT provides this equation where the goal for optimal reward is to maximize R by balancing G and T's well. "
      ]
    },
    {
      "cell_type": "markdown",
      "metadata": {
        "id": "XmI0sGvVV7nD"
      },
      "source": [
        "# Problem/Goal:"
      ]
    },
    {
      "cell_type": "markdown",
      "metadata": {
        "id": "PSpsDbGdM8dE"
      },
      "source": [
        "There is no code I could find in epxloration lib that provides a patch enviroment so I will be making it myself.\n",
        "\n",
        "After that we will need to make an agent that, simply put: will stay in a patch as long as it keeps finding targets within a certain set amount of time.\n",
        "\n",
        "Testing this agent with different required reward times should let us tune it to an approximate optimal T(b).\n",
        "\n",
        "Next we would randomly assign the patches reward values of 1 or 5. The goal now is to see how different the 2 required reward times after finding a 1 or 5 target will be in comparison to each other."
      ]
    },
    {
      "cell_type": "markdown",
      "metadata": {
        "id": "6AYm4pEtH9O6"
      },
      "source": [
        "## Section - Setup"
      ]
    },
    {
      "cell_type": "markdown",
      "metadata": {
        "id": "H7wZ20Mhm9Dn"
      },
      "source": [
        "### Install ADMCode and explorationlib"
      ]
    },
    {
      "cell_type": "code",
      "metadata": {
        "id": "mIcWU-2GmQLK",
        "colab": {
          "base_uri": "https://localhost:8080/"
        },
        "outputId": "0e14a3cb-9a1a-446e-d007-5516486fbdf6"
      },
      "source": [
        "# ADMCode uses an old version of numba\n",
        "!pip install numba==0.48\n",
        "!pip install --upgrade git+https://github.com/clappm/AdaptiveDecisionMaking_2018"
      ],
      "execution_count": 7,
      "outputs": [
        {
          "output_type": "stream",
          "name": "stdout",
          "text": [
            "Requirement already satisfied: numba==0.48 in /usr/local/lib/python3.7/dist-packages (0.48.0)\n",
            "Requirement already satisfied: llvmlite<0.32.0,>=0.31.0dev0 in /usr/local/lib/python3.7/dist-packages (from numba==0.48) (0.31.0)\n",
            "Requirement already satisfied: setuptools in /usr/local/lib/python3.7/dist-packages (from numba==0.48) (57.4.0)\n",
            "Requirement already satisfied: numpy>=1.15 in /usr/local/lib/python3.7/dist-packages (from numba==0.48) (1.19.5)\n",
            "Collecting git+https://github.com/clappm/AdaptiveDecisionMaking_2018\n",
            "  Cloning https://github.com/clappm/AdaptiveDecisionMaking_2018 to /tmp/pip-req-build-_kdr4rys\n",
            "  Running command git clone -q https://github.com/clappm/AdaptiveDecisionMaking_2018 /tmp/pip-req-build-_kdr4rys\n",
            "Requirement already satisfied: numpy in /usr/local/lib/python3.7/dist-packages (from ADMCode==0.5.2) (1.19.5)\n",
            "Requirement already satisfied: scipy in /usr/local/lib/python3.7/dist-packages (from ADMCode==0.5.2) (1.4.1)\n",
            "Requirement already satisfied: pandas in /usr/local/lib/python3.7/dist-packages (from ADMCode==0.5.2) (1.1.5)\n",
            "Requirement already satisfied: matplotlib in /usr/local/lib/python3.7/dist-packages (from ADMCode==0.5.2) (3.2.2)\n",
            "Requirement already satisfied: seaborn in /usr/local/lib/python3.7/dist-packages (from ADMCode==0.5.2) (0.11.2)\n",
            "Requirement already satisfied: scikit-learn in /usr/local/lib/python3.7/dist-packages (from ADMCode==0.5.2) (1.0.1)\n",
            "Requirement already satisfied: numba in /usr/local/lib/python3.7/dist-packages (from ADMCode==0.5.2) (0.48.0)\n",
            "Requirement already satisfied: future in /usr/local/lib/python3.7/dist-packages (from ADMCode==0.5.2) (0.16.0)\n",
            "Requirement already satisfied: python-dateutil>=2.1 in /usr/local/lib/python3.7/dist-packages (from matplotlib->ADMCode==0.5.2) (2.8.2)\n",
            "Requirement already satisfied: pyparsing!=2.0.4,!=2.1.2,!=2.1.6,>=2.0.1 in /usr/local/lib/python3.7/dist-packages (from matplotlib->ADMCode==0.5.2) (3.0.6)\n",
            "Requirement already satisfied: cycler>=0.10 in /usr/local/lib/python3.7/dist-packages (from matplotlib->ADMCode==0.5.2) (0.11.0)\n",
            "Requirement already satisfied: kiwisolver>=1.0.1 in /usr/local/lib/python3.7/dist-packages (from matplotlib->ADMCode==0.5.2) (1.3.2)\n",
            "Requirement already satisfied: six>=1.5 in /usr/local/lib/python3.7/dist-packages (from python-dateutil>=2.1->matplotlib->ADMCode==0.5.2) (1.15.0)\n",
            "Requirement already satisfied: llvmlite<0.32.0,>=0.31.0dev0 in /usr/local/lib/python3.7/dist-packages (from numba->ADMCode==0.5.2) (0.31.0)\n",
            "Requirement already satisfied: setuptools in /usr/local/lib/python3.7/dist-packages (from numba->ADMCode==0.5.2) (57.4.0)\n",
            "Requirement already satisfied: pytz>=2017.2 in /usr/local/lib/python3.7/dist-packages (from pandas->ADMCode==0.5.2) (2018.9)\n",
            "Requirement already satisfied: threadpoolctl>=2.0.0 in /usr/local/lib/python3.7/dist-packages (from scikit-learn->ADMCode==0.5.2) (3.0.0)\n",
            "Requirement already satisfied: joblib>=0.11 in /usr/local/lib/python3.7/dist-packages (from scikit-learn->ADMCode==0.5.2) (1.1.0)\n"
          ]
        }
      ]
    },
    {
      "cell_type": "code",
      "metadata": {
        "id": "4ZOPw8ouUMI9",
        "colab": {
          "base_uri": "https://localhost:8080/"
        },
        "outputId": "4345f6fc-2133-4b1d-ced7-334b16f7f6da"
      },
      "source": [
        "!pip install --upgrade git+https://github.com/azilberb/explorationlib\n",
        "!pip install --upgrade git+https://github.com/MattChanTK/gym-maze.git\n",
        "!pip install celluloid # for the gifs"
      ],
      "execution_count": 8,
      "outputs": [
        {
          "output_type": "stream",
          "name": "stdout",
          "text": [
            "Collecting git+https://github.com/azilberb/explorationlib\n",
            "  Cloning https://github.com/azilberb/explorationlib to /tmp/pip-req-build-eev63et4\n",
            "  Running command git clone -q https://github.com/azilberb/explorationlib /tmp/pip-req-build-eev63et4\n",
            "Collecting git+https://github.com/MattChanTK/gym-maze.git\n",
            "  Cloning https://github.com/MattChanTK/gym-maze.git to /tmp/pip-req-build-2c186sbp\n",
            "  Running command git clone -q https://github.com/MattChanTK/gym-maze.git /tmp/pip-req-build-2c186sbp\n",
            "Requirement already satisfied: gym in /usr/local/lib/python3.7/dist-packages (from gym-maze==0.4) (0.17.3)\n",
            "Requirement already satisfied: pygame in /usr/local/lib/python3.7/dist-packages (from gym-maze==0.4) (2.1.0)\n",
            "Requirement already satisfied: numpy in /usr/local/lib/python3.7/dist-packages (from gym-maze==0.4) (1.19.5)\n",
            "Requirement already satisfied: cloudpickle<1.7.0,>=1.2.0 in /usr/local/lib/python3.7/dist-packages (from gym->gym-maze==0.4) (1.3.0)\n",
            "Requirement already satisfied: pyglet<=1.5.0,>=1.4.0 in /usr/local/lib/python3.7/dist-packages (from gym->gym-maze==0.4) (1.5.0)\n",
            "Requirement already satisfied: scipy in /usr/local/lib/python3.7/dist-packages (from gym->gym-maze==0.4) (1.4.1)\n",
            "Requirement already satisfied: future in /usr/local/lib/python3.7/dist-packages (from pyglet<=1.5.0,>=1.4.0->gym->gym-maze==0.4) (0.16.0)\n",
            "Requirement already satisfied: celluloid in /usr/local/lib/python3.7/dist-packages (0.2.0)\n",
            "Requirement already satisfied: matplotlib in /usr/local/lib/python3.7/dist-packages (from celluloid) (3.2.2)\n",
            "Requirement already satisfied: cycler>=0.10 in /usr/local/lib/python3.7/dist-packages (from matplotlib->celluloid) (0.11.0)\n",
            "Requirement already satisfied: pyparsing!=2.0.4,!=2.1.2,!=2.1.6,>=2.0.1 in /usr/local/lib/python3.7/dist-packages (from matplotlib->celluloid) (3.0.6)\n",
            "Requirement already satisfied: kiwisolver>=1.0.1 in /usr/local/lib/python3.7/dist-packages (from matplotlib->celluloid) (1.3.2)\n",
            "Requirement already satisfied: numpy>=1.11 in /usr/local/lib/python3.7/dist-packages (from matplotlib->celluloid) (1.19.5)\n",
            "Requirement already satisfied: python-dateutil>=2.1 in /usr/local/lib/python3.7/dist-packages (from matplotlib->celluloid) (2.8.2)\n",
            "Requirement already satisfied: six>=1.5 in /usr/local/lib/python3.7/dist-packages (from python-dateutil>=2.1->matplotlib->celluloid) (1.15.0)\n"
          ]
        }
      ]
    },
    {
      "cell_type": "markdown",
      "metadata": {
        "id": "-7EGUFBznE-w"
      },
      "source": [
        "### Import Modules"
      ]
    },
    {
      "cell_type": "code",
      "metadata": {
        "id": "hyRNVQHPa5aT"
      },
      "source": [
        "from __future__ import division\n",
        "from ADMCode import visualize as vis\n",
        "from ADMCode import ddm, sdt\n",
        "\n",
        "import numpy as np\n",
        "import pandas as pd\n",
        "\n",
        "from ipywidgets import interactive\n",
        "import matplotlib.pyplot as plt\n",
        "import seaborn as sns\n",
        "import warnings"
      ],
      "execution_count": 5,
      "outputs": []
    },
    {
      "cell_type": "code",
      "metadata": {
        "id": "xchYm8E7XD3L",
        "colab": {
          "base_uri": "https://localhost:8080/"
        },
        "outputId": "60f903ab-64fa-4223-9833-04eace7a4944"
      },
      "source": [
        "# Import misc\n",
        "import shutil\n",
        "import glob\n",
        "import os\n",
        "import copy\n",
        "import sys\n",
        "\n",
        "# Vis - 1\n",
        "import numpy as np\n",
        "import seaborn as sns\n",
        "import matplotlib.pyplot as plt\n",
        "\n",
        "# Exp\n",
        "from explorationlib.run import experiment\n",
        "from explorationlib.util import select_exp\n",
        "from explorationlib.util import load\n",
        "from explorationlib.util import save\n",
        "\n",
        "# Agents\n",
        "from explorationlib.agent import DiffusionDiscrete\n",
        "from explorationlib.agent import GradientDiffusionGrid\n",
        "from explorationlib.agent import GradientDiffusionDiscrete\n",
        "from explorationlib.agent import AccumulatorGradientGrid\n",
        "from explorationlib.agent import TruncatedLevyDiscrete\n",
        "\n",
        "# Env\n",
        "from explorationlib.local_gym import ScentGrid\n",
        "from explorationlib.local_gym import create_grid_scent\n",
        "from explorationlib.local_gym import patch_targets\n",
        "from explorationlib.local_gym import uniform_targets\n",
        "from explorationlib.local_gym import constant_values\n",
        "\n",
        "# Vis - 2\n",
        "from explorationlib.plot import plot_position2d\n",
        "from explorationlib.plot import plot_length_hist\n",
        "from explorationlib.plot import plot_length\n",
        "from explorationlib.plot import plot_targets2d\n",
        "from explorationlib.plot import plot_scent_grid\n",
        "\n",
        "# Score\n",
        "from explorationlib.score import total_reward\n",
        "from explorationlib.score import num_death"
      ],
      "execution_count": 6,
      "outputs": [
        {
          "output_type": "stream",
          "name": "stderr",
          "text": [
            "/usr/local/lib/python3.7/dist-packages/explorationlib/run.py:9: TqdmExperimentalWarning: Using `tqdm.autonotebook.tqdm` in notebook mode. Use `tqdm.tqdm` instead to force console mode (e.g. in jupyter console)\n",
            "  from tqdm.autonotebook import tqdm\n"
          ]
        },
        {
          "output_type": "stream",
          "name": "stdout",
          "text": [
            "pygame 2.1.0 (SDL 2.0.16, Python 3.7.12)\n",
            "Hello from the pygame community. https://www.pygame.org/contribute.html\n"
          ]
        }
      ]
    },
    {
      "cell_type": "markdown",
      "metadata": {
        "id": "zp9GIk4pnIXN"
      },
      "source": [
        "### Notebook Config"
      ]
    },
    {
      "cell_type": "code",
      "metadata": {
        "id": "Udc4lkT1TW7U"
      },
      "source": [
        "# Pretty plots\n",
        "warnings.simplefilter('ignore', np.RankWarning)\n",
        "warnings.filterwarnings(\"ignore\", module=\"matplotlib\")\n",
        "warnings.filterwarnings(\"ignore\")\n",
        "sns.set(style='white', font_scale=1.3)\n",
        "\n",
        "%matplotlib inline\n",
        "%config InlineBackend.figure_format='retina'\n",
        "%config IPCompleter.greedy=True\n",
        "plt.rcParams[\"axes.facecolor\"] = \"white\"\n",
        "plt.rcParams[\"figure.facecolor\"] = \"white\"\n",
        "plt.rcParams[\"font.size\"] = \"16\"\n",
        "\n",
        "# Dev\n",
        "%load_ext autoreload\n",
        "%autoreload 2"
      ],
      "execution_count": 9,
      "outputs": []
    },
    {
      "cell_type": "markdown",
      "metadata": {
        "id": "uKjeNzt_x2CR"
      },
      "source": [
        "## Testing an Agent on a Patch Enviroment:"
      ]
    },
    {
      "cell_type": "markdown",
      "metadata": {
        "id": "DkZjJYuSP4X4"
      },
      "source": [
        "## Creating a patch enviroment-\n",
        "To create a patched enviroment I added a function in exploration lib that created a set number of random patches of a set size in a set field."
      ]
    },
    {
      "cell_type": "code",
      "metadata": {
        "id": "wazyzSTUQOnN"
      },
      "source": [
        "#DO NOT RUN (only for show)\n",
        "def patch_targets(N, shape, patch_max, prng=None):\n",
        "    prng = _init_prng(prng)\n",
        "\n",
        "    targets = []\n",
        "    for s in shape:\n",
        "        locs = prng.uniform(-s, s, size=N)\n",
        "        coords = []\n",
        "        print(locs)\n",
        "        for loc in locs:\n",
        "            patch_size = patch_max\n",
        "            locs_patch = prng.uniform(loc-(patch_size), loc+(patch_size), size=patch_size)\n",
        "            coords.extend(list(locs_patch))\n",
        "        \n",
        "        targets.append(deepcopy(coords))\n",
        "\n",
        "    # Reorg into a list of location arrays\n",
        "    targets = list(zip(*targets))\n",
        "    targets = [np.asarray(t) for t in targets]\n",
        "\n",
        "    return targets"
      ],
      "execution_count": null,
      "outputs": []
    },
    {
      "cell_type": "markdown",
      "metadata": {
        "id": "kPbvWRHIRU0X"
      },
      "source": [
        "Generating an Enviroment:"
      ]
    },
    {
      "cell_type": "code",
      "metadata": {
        "colab": {
          "base_uri": "https://localhost:8080/"
        },
        "id": "0WWX0fmDRUVN",
        "outputId": "ecd745c2-310e-4b76-e0e2-d67e79710899"
      },
      "source": [
        "# Shared exp parameters\n",
        "num_steps = 200\n",
        "max_steps = 20\n",
        "seed_value = 5838\n",
        "\n",
        "min_length = 1\n",
        "step_size = 0.1\n",
        "\n",
        "noise_sigma = 2\n",
        "detection_radius = 1\n",
        "num_targets = 15 \n",
        "target_boundary = (100, 100)\n",
        "patch_max = 10\n",
        "\n",
        "# Env\n",
        "env = ScentGrid(mode=None)\n",
        "env.seed(seed_value)\n",
        "\n",
        "# Targets\n",
        "prng = np.random.RandomState(seed_value)\n",
        "targets = patch_targets(num_targets, target_boundary, patch_max, prng=prng)\n",
        "values = constant_values(targets, 1)\n",
        "\n",
        "# Scents\n",
        "coord, scent = create_grid_scent(target_boundary, amplitude=1, sigma=10)\n",
        "scents = [scent for _ in range(len(targets))]\n",
        "env.add_scents(targets, values, coord, scents, noise_sigma=noise_sigma)"
      ],
      "execution_count": 10,
      "outputs": [
        {
          "output_type": "stream",
          "name": "stdout",
          "text": [
            "[ 57.18271902 -22.34090945 -85.51163698 -23.97968407 -15.88894459\n",
            " -10.90475617  74.45778756 -72.44736508  72.50912381  78.28162887\n",
            " -59.96333007 -81.79325031 -52.48055733  21.17331011  26.90945186]\n",
            "[-30.79072558  73.61905696  53.6876727   77.77322802 -81.30411792\n",
            " -10.26690271  40.22657724   0.20310328  32.08907299  73.79721137\n",
            "  76.46501519 -21.21367441 -16.56455473 -96.77345782  15.37308866]\n"
          ]
        }
      ]
    },
    {
      "cell_type": "code",
      "metadata": {
        "colab": {
          "base_uri": "https://localhost:8080/",
          "height": 241
        },
        "id": "44gdNJoQR8Y0",
        "outputId": "c63b4f2d-9f2d-4f1a-c54a-99eb76e04813"
      },
      "source": [
        "plot_boundary = (100, 100)\n",
        "num_experiment = 0\n",
        "ax = None\n",
        "\n",
        "ax = plot_targets2d(\n",
        "    env,\n",
        "    boundary=plot_boundary,\n",
        "    color=\"black\",\n",
        "    alpha=1,\n",
        "    label=\"Targets\",\n",
        "    ax=ax,\n",
        ")"
      ],
      "execution_count": 11,
      "outputs": [
        {
          "output_type": "display_data",
          "data": {
            "image/png": "[encoded data removed]",
            "text/plain": [
              "<Figure size 216x216 with 1 Axes>"
            ]
          },
          "metadata": {
            "image/png": {
              "width": 359,
              "height": 224
            }
          }
        }
      ]
    },
    {
      "cell_type": "markdown",
      "metadata": {
        "id": "_ST92j53gRRP"
      },
      "source": [
        "### Run\n"
      ]
    },
    {
      "cell_type": "code",
      "metadata": {
        "id": "DjNYpQqXgA75",
        "colab": {
          "base_uri": "https://localhost:8080/",
          "height": 177,
          "referenced_widgets": [
            "297c1efe71d94719b6a8b409433dbf3c",
            "64d0888e8c0648c78117ffc646d482a5",
            "2997e5d0093246c89586eb25ad42ca45",
            "6e49c100956444dc941f098169c20926",
            "651cb35462324a8fbf39efd8a9e22974",
            "6a34f17ad36a42d2b1442e608437be18",
            "e96ee4fdf6af479d943dbf8b73705653",
            "7ebf697395f546fb9dea41153b18b822",
            "d2bfc18e12fc4151887d79b9d97c2d86",
            "5170c4586c0c45aeae1adcd88aa887ff",
            "5ede8adac15a48ecbeb6afdf81660333",
            "4edbbca064a9471185883713e8390f39",
            "19ede5b01dd445aca7fc9127a21f715a",
            "c00fd37f76944594824472ecabcb3a8b",
            "69fd186bd6aa49b38156cec573adc39d",
            "768284ccb73e4c449253ea1f55bb9a8b",
            "365d954c6a1c443f8fd34472a28b32b8",
            "d56701e9029343649c362f3a5086f11b",
            "40553d6b01fa4f6ea760ec8974776c8a",
            "311c5628e2b04eee9ea5b0f99dc8ad1e",
            "2d780ea902c3457bae16718abb565127",
            "e085810c1f784d989a5440f4f2d846e5",
            "3ff28e41c7e24c96b94fa4e2be851ec6",
            "ac6a14d70a3644c9ad60de29cc2f2de8",
            "e517634721cf412fa8334817cb4357e7",
            "4753a0a22f8c4b7781574aaff4bae646",
            "026b2252a9be42c99f109351f14b1c6d",
            "23cd0971b5bd42db8769e5a636eeaef2",
            "84a09154e4dd44089f6e93a1d8501c6b",
            "a16fa5b67b524ed985452456f6a9ba07",
            "0dd99270830d4f16a9456953ac5a8da6",
            "38e76a57e7f243309cf72c50e41478da",
            "91cef42926d047c89f693ad1ca950afd",
            "0aca48b425084680b82907520f59b05f",
            "9ef42dbe93d04383aad6da293729d53f",
            "de36c1da8bc64580a596f84fe5c8467f",
            "2f33f55fa2504ab9b2625c46725e5bee",
            "20e93cde3ced4576978d34ac60b3cea8",
            "f8b7f41f6d554d70a3bb3bae8f86b25c",
            "f35b8f2f25984e6882985b5c0b366031",
            "adb5741d8af4431882f0c959e2b301da",
            "52eceef8ae4c4bc587e57a5a8235e775",
            "bd5b5ff9071e463b86b68ed3fe668bd1",
            "8c62e94ab4d24f4bb89333e47d068c46",
            "beba25ada8d8404c8baea3ee5f16a37e",
            "5c87550798cc4041b93069465504ebe3",
            "031c2fcca484499cbd5c3564079bdf5e",
            "3d1d1312a15148219413370efc476ef8",
            "e61f0398a3e747c5aa3439a33be0e633",
            "6577c1a47e8441569c9a8db309b31cba",
            "92457e257e8c4447901efb814d5eeb64",
            "2659352190ba48cc91ec040a4b49ef47",
            "9e368352a6b54649b96036d9affa8122",
            "432407d7a9d54cbdaff9e3e6e64b3ff4",
            "db2b802d20a54687af2ce2a8baecf75d"
          ]
        },
        "outputId": "c143bd97-1e1c-4c8d-ff39-43935a309847"
      },
      "source": [
        "# Our parameters \n",
        "drift_rates = [0.25, 0.75, 1.0, 1.25, 1.5]\n",
        "\n",
        "# For plotting\n",
        "colors = [\"darkgreen\", \"seagreen\", \"cadetblue\", \"steelblue\", \"mediumpurple\"]\n",
        "names = drift_rates # list(range(5))\n",
        "\n",
        "# Exp params\n",
        "threshold = 3.0\n",
        "accumulate_sigma = 1.0\n",
        "\n",
        "num_experiments = 100\n",
        "\n",
        "# Run\n",
        "results = []\n",
        "for i, drift_rate in zip(names, drift_rates):\n",
        "    accum = AccumulatorGradientGrid(\n",
        "        min_length=min_length, \n",
        "        max_steps=max_steps, \n",
        "        drift_rate=drift_rate, \n",
        "        threshold=threshold,\n",
        "        accumulate_sigma=accumulate_sigma\n",
        "    )\n",
        "    accum.seed(seed_value)\n",
        "    # !\n",
        "    exp = experiment(\n",
        "        f\"accum_{i}\",\n",
        "        accum,\n",
        "        env,\n",
        "        num_steps=num_steps,\n",
        "        num_experiments=num_experiments,\n",
        "        dump=False,\n",
        "        split_state=True,\n",
        "        seed=seed_value\n",
        "    )\n",
        "    results.append(exp)"
      ],
      "execution_count": 13,
      "outputs": [
        {
          "output_type": "display_data",
          "data": {
            "application/vnd.jupyter.widget-view+json": {
              "model_id": "297c1efe71d94719b6a8b409433dbf3c",
              "version_minor": 0,
              "version_major": 2
            },
            "text/plain": [
              "accum_0:   0%|          | 0/100 [00:00<?, ?it/s]"
            ]
          },
          "metadata": {}
        },
        {
          "output_type": "display_data",
          "data": {
            "application/vnd.jupyter.widget-view+json": {
              "model_id": "4edbbca064a9471185883713e8390f39",
              "version_minor": 0,
              "version_major": 2
            },
            "text/plain": [
              "accum_0:   0%|          | 0/100 [00:00<?, ?it/s]"
            ]
          },
          "metadata": {}
        },
        {
          "output_type": "display_data",
          "data": {
            "application/vnd.jupyter.widget-view+json": {
              "model_id": "3ff28e41c7e24c96b94fa4e2be851ec6",
              "version_minor": 0,
              "version_major": 2
            },
            "text/plain": [
              "accum_1:   0%|          | 0/100 [00:00<?, ?it/s]"
            ]
          },
          "metadata": {}
        },
        {
          "output_type": "display_data",
          "data": {
            "application/vnd.jupyter.widget-view+json": {
              "model_id": "0aca48b425084680b82907520f59b05f",
              "version_minor": 0,
              "version_major": 2
            },
            "text/plain": [
              "accum_1:   0%|          | 0/100 [00:00<?, ?it/s]"
            ]
          },
          "metadata": {}
        },
        {
          "output_type": "display_data",
          "data": {
            "application/vnd.jupyter.widget-view+json": {
              "model_id": "beba25ada8d8404c8baea3ee5f16a37e",
              "version_minor": 0,
              "version_major": 2
            },
            "text/plain": [
              "accum_1:   0%|          | 0/100 [00:00<?, ?it/s]"
            ]
          },
          "metadata": {}
        }
      ]
    },
    {
      "cell_type": "markdown",
      "metadata": {
        "id": "XUaG8PAEghNe"
      },
      "source": [
        "### Plot an example"
      ]
    },
    {
      "cell_type": "code",
      "metadata": {
        "id": "Xp_r9LRtgjBK",
        "colab": {
          "base_uri": "https://localhost:8080/",
          "height": 0
        },
        "outputId": "f1f0571b-95da-4d0b-e151-f0fa4e25f771"
      },
      "source": [
        "plot_boundary = (100, 100)\n",
        "num_experiment = 0\n",
        "ax = None\n",
        "result = results\n",
        "color = colors\n",
        "ax = plot_position2d(\n",
        "        select_exp(result, num_experiment),\n",
        "        boundary=plot_boundary,\n",
        "        label=i,\n",
        "        color=color,\n",
        "        alpha=1,\n",
        "        ax=ax,\n",
        "    )\n",
        "ax = plot_targets2d(\n",
        "    env,\n",
        "    boundary=plot_boundary,\n",
        "    color=\"black\",\n",
        "    alpha=1,\n",
        "    label=\"Targets\",\n",
        "    ax=ax,\n",
        ")"
      ],
      "execution_count": 14,
      "outputs": [
        {
          "output_type": "error",
          "ename": "TypeError",
          "evalue": "ignored",
          "traceback": [
            "\u001b[0;31m---------------------------------------------------------------------------\u001b[0m",
            "\u001b[0;31mTypeError\u001b[0m                                 Traceback (most recent call last)",
            "\u001b[0;32m<ipython-input-14-da7666819d83>\u001b[0m in \u001b[0;36m<module>\u001b[0;34m()\u001b[0m\n\u001b[1;32m     10\u001b[0m         \u001b[0mcolor\u001b[0m\u001b[0;34m=\u001b[0m\u001b[0mcolor\u001b[0m\u001b[0;34m,\u001b[0m\u001b[0;34m\u001b[0m\u001b[0;34m\u001b[0m\u001b[0m\n\u001b[1;32m     11\u001b[0m         \u001b[0malpha\u001b[0m\u001b[0;34m=\u001b[0m\u001b[0;36m1\u001b[0m\u001b[0;34m,\u001b[0m\u001b[0;34m\u001b[0m\u001b[0;34m\u001b[0m\u001b[0m\n\u001b[0;32m---> 12\u001b[0;31m         \u001b[0max\u001b[0m\u001b[0;34m=\u001b[0m\u001b[0max\u001b[0m\u001b[0;34m,\u001b[0m\u001b[0;34m\u001b[0m\u001b[0;34m\u001b[0m\u001b[0m\n\u001b[0m\u001b[1;32m     13\u001b[0m     )\n\u001b[1;32m     14\u001b[0m ax = plot_targets2d(\n",
            "\u001b[0;32m/usr/local/lib/python3.7/dist-packages/explorationlib/plot.py\u001b[0m in \u001b[0;36mplot_position2d\u001b[0;34m(exp_data, boundary, figsize, color, alpha, label, title, competitive, var_name, ax)\u001b[0m\n\u001b[1;32m    316\u001b[0m                     ax=None):\n\u001b[1;32m    317\u001b[0m     \u001b[0;31m# fmt\u001b[0m\u001b[0;34m\u001b[0m\u001b[0;34m\u001b[0m\u001b[0;34m\u001b[0m\u001b[0m\n\u001b[0;32m--> 318\u001b[0;31m     \u001b[0mstate\u001b[0m \u001b[0;34m=\u001b[0m \u001b[0mnp\u001b[0m\u001b[0;34m.\u001b[0m\u001b[0mvstack\u001b[0m\u001b[0;34m(\u001b[0m\u001b[0mexp_data\u001b[0m\u001b[0;34m[\u001b[0m\u001b[0mvar_name\u001b[0m\u001b[0;34m]\u001b[0m\u001b[0;34m)\u001b[0m\u001b[0;34m\u001b[0m\u001b[0;34m\u001b[0m\u001b[0m\n\u001b[0m\u001b[1;32m    319\u001b[0m \u001b[0;34m\u001b[0m\u001b[0m\n\u001b[1;32m    320\u001b[0m     \u001b[0;31m# Create a fig obj?\u001b[0m\u001b[0;34m\u001b[0m\u001b[0;34m\u001b[0m\u001b[0;34m\u001b[0m\u001b[0m\n",
            "\u001b[0;31mTypeError\u001b[0m: list indices must be integers or slices, not str"
          ]
        }
      ]
    },
    {
      "cell_type": "markdown",
      "metadata": {
        "id": "SVWOOd2nhb-G"
      },
      "source": [
        "### Plot several metrics\n"
      ]
    },
    {
      "cell_type": "code",
      "metadata": {
        "id": "ubcbKdYeypbc"
      },
      "source": [
        "# Score\n",
        "scores = []\n",
        "for result in results:  \n",
        "    l = 0.0\n",
        "    for r in result:\n",
        "        l += r[\"agent_total_l\"][-1]\n",
        "    scores.append(l)   \n",
        "\n",
        "# Tabulate\n",
        "m, sd = [], []\n",
        "for s in scores:\n",
        "    m.append(np.mean(s))\n",
        "\n",
        "# -\n",
        "fig = plt.figure(figsize=(3, 3))\n",
        "plt.bar([str(n) for n in names], m, color=\"black\", alpha=0.6)\n",
        "plt.ylabel(\"Total distance\")\n",
        "plt.xlabel(\"Model code\")\n",
        "plt.tight_layout()\n",
        "sns.despine()"
      ],
      "execution_count": null,
      "outputs": []
    },
    {
      "cell_type": "code",
      "metadata": {
        "id": "8-HO7k8tys_V"
      },
      "source": [
        "# Score\n",
        "scores = []\n",
        "for result in results:\n",
        "    scores.append(num_death(result))   \n",
        "\n",
        "# -\n",
        "fig = plt.figure(figsize=(3, 3))\n",
        "plt.bar([str(n) for n in names], scores, color=\"black\", alpha=0.6)\n",
        "plt.ylabel(\"Deaths\")\n",
        "plt.xlabel(\"Model code\")\n",
        "plt.tight_layout()\n",
        "sns.despine()"
      ],
      "execution_count": null,
      "outputs": []
    },
    {
      "cell_type": "code",
      "metadata": {
        "id": "Jg5VrFNJyulv"
      },
      "source": [
        "# Score\n",
        "scores = []\n",
        "for result in results:\n",
        "    r = total_reward(result)\n",
        "    scores.append(r)   \n",
        "\n",
        "# Tabulate\n",
        "m = []\n",
        "for s in scores:\n",
        "    m.append(np.max(s))\n",
        "\n",
        "# -\n",
        "fig = plt.figure(figsize=(3, 3))\n",
        "plt.bar([str(n) for n in names], m, color=\"black\", alpha=0.6)\n",
        "plt.ylabel(\"Best score\")\n",
        "plt.xlabel(\"Model code\")\n",
        "plt.tight_layout()\n",
        "sns.despine()"
      ],
      "execution_count": null,
      "outputs": []
    },
    {
      "cell_type": "code",
      "metadata": {
        "id": "sOkEfjcZywLl"
      },
      "source": [
        "# Score\n",
        "scores = []\n",
        "for result in results:  \n",
        "    r = total_reward(result)\n",
        "    scores.append(r)   \n",
        "\n",
        "# Tabulate\n",
        "m, sd = [], []\n",
        "for s in scores:\n",
        "    m.append(np.mean(s))\n",
        "    sd.append(np.std(s))\n",
        "\n",
        "# Plot means\n",
        "fig = plt.figure(figsize=(3, 3))\n",
        "plt.bar([str(n) for n in names], m, yerr=sd, color=\"black\", alpha=0.6)\n",
        "plt.ylabel(\"Avg. score\")\n",
        "plt.xlabel(\"Model code\")\n",
        "plt.tight_layout()\n",
        "sns.despine()\n",
        "\n",
        "# Dists of means\n",
        "fig = plt.figure(figsize=(6, 3))\n",
        "for (i, s, c) in zip(names, scores, colors):\n",
        "    plt.hist(s, label=i, color=c, alpha=0.5, bins=list(range(1,50,1)))\n",
        "    plt.legend()\n",
        "    plt.xlabel(\"Score\")\n",
        "    plt.tight_layout()\n",
        "    sns.despine()"
      ],
      "execution_count": null,
      "outputs": []
    },
    {
      "cell_type": "markdown",
      "metadata": {
        "id": "1im-d4EbUtSe"
      },
      "source": [
        "## Conclusions:\n",
        "I was not able to get my code to work in fine tuning the time spent in patch and so it is very hard to have definitive conclusions."
      ]
    },
    {
      "cell_type": "markdown",
      "metadata": {
        "id": "Dcq_Q5tmYmnE"
      },
      "source": [
        "## Other notes since I did not have results: \n",
        "A paper by Summerside et al. called *Vigor of reaching movements: reward discounts the cost of effort* discusses how a higher anticipated reward essentially minimizes the cost of the effort required to get that reward. \n",
        "\n",
        "The example given at the very beginning of the paper states:\n",
        "\n",
        "\"Imagine you are sitting at your desk and the phone rings, but you do not recognize the number. You reach for the phone and answer to find it is an old friend. A few weeks later, the friend calls again, but this time you recognize the number. Again, you reach for the phone, excited to hear how they have been. Both scenarios require execution of a reaching movement. With the assumption that the physical constraints of reaching (i.e., initial arm configuration and end-point goal) are identical, will the reaching movements be the same? (Summerside 2018)\"\n",
        "\n",
        "This may seem unrelated since a change in movement doesn't mean you are more willing to put mroe effort, but a faster less accurate movement does actually take more energy.\n",
        "\n",
        "Overall this paper concluded that even human movement seems to have an economic tendency with a higher effort made for a higher anticipated reward."
      ]
    }
  ]
}