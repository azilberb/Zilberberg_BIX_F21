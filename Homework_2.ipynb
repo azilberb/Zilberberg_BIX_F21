{
  "nbformat": 4,
  "nbformat_minor": 0,
  "metadata": {
    "colab": {
      "name": "Homework 2.ipynb",
      "provenance": [],
      "collapsed_sections": []
    },
    "kernelspec": {
      "name": "python3",
      "display_name": "Python 3"
    },
    "language_info": {
      "name": "python"
    },
    "widgets": {
      "application/vnd.jupyter.widget-state+json": {
        "03ec52ffb9494df09cc5e80141bed0c7": {
          "model_module": "@jupyter-widgets/controls",
          "model_name": "HBoxModel",
          "model_module_version": "1.5.0",
          "state": {
            "_view_name": "HBoxView",
            "_dom_classes": [],
            "_model_name": "HBoxModel",
            "_view_module": "@jupyter-widgets/controls",
            "_model_module_version": "1.5.0",
            "_view_count": null,
            "_view_module_version": "1.5.0",
            "box_style": "",
            "layout": "IPY_MODEL_b578d3c3c09a465c882966ea9feec892",
            "_model_module": "@jupyter-widgets/controls",
            "children": [
              "IPY_MODEL_09b26784665d4735b4cade0d43205914",
              "IPY_MODEL_5a731aeb5f304c25903714ef37e2e6f9",
              "IPY_MODEL_c957bebbbf1d4e6d84c393f95b2aa141"
            ]
          }
        },
        "b578d3c3c09a465c882966ea9feec892": {
          "model_module": "@jupyter-widgets/base",
          "model_name": "LayoutModel",
          "model_module_version": "1.2.0",
          "state": {
            "_view_name": "LayoutView",
            "grid_template_rows": null,
            "right": null,
            "justify_content": null,
            "_view_module": "@jupyter-widgets/base",
            "overflow": null,
            "_model_module_version": "1.2.0",
            "_view_count": null,
            "flex_flow": null,
            "width": null,
            "min_width": null,
            "border": null,
            "align_items": null,
            "bottom": null,
            "_model_module": "@jupyter-widgets/base",
            "top": null,
            "grid_column": null,
            "overflow_y": null,
            "overflow_x": null,
            "grid_auto_flow": null,
            "grid_area": null,
            "grid_template_columns": null,
            "flex": null,
            "_model_name": "LayoutModel",
            "justify_items": null,
            "grid_row": null,
            "max_height": null,
            "align_content": null,
            "visibility": null,
            "align_self": null,
            "height": null,
            "min_height": null,
            "padding": null,
            "grid_auto_rows": null,
            "grid_gap": null,
            "max_width": null,
            "order": null,
            "_view_module_version": "1.2.0",
            "grid_template_areas": null,
            "object_position": null,
            "object_fit": null,
            "grid_auto_columns": null,
            "margin": null,
            "display": null,
            "left": null
          }
        },
        "09b26784665d4735b4cade0d43205914": {
          "model_module": "@jupyter-widgets/controls",
          "model_name": "HTMLModel",
          "model_module_version": "1.5.0",
          "state": {
            "_view_name": "HTMLView",
            "style": "IPY_MODEL_309a5e9f92cf4a03a0a8a901159f838a",
            "_dom_classes": [],
            "description": "",
            "_model_name": "HTMLModel",
            "placeholder": "​",
            "_view_module": "@jupyter-widgets/controls",
            "_model_module_version": "1.5.0",
            "value": "accum_1: 100%",
            "_view_count": null,
            "_view_module_version": "1.5.0",
            "description_tooltip": null,
            "_model_module": "@jupyter-widgets/controls",
            "layout": "IPY_MODEL_76f3c44cf3be46f793a9145b4b0afa57"
          }
        },
        "5a731aeb5f304c25903714ef37e2e6f9": {
          "model_module": "@jupyter-widgets/controls",
          "model_name": "FloatProgressModel",
          "model_module_version": "1.5.0",
          "state": {
            "_view_name": "ProgressView",
            "style": "IPY_MODEL_2fe3bca74b984956bfda1bd439bb4b3a",
            "_dom_classes": [],
            "description": "",
            "_model_name": "FloatProgressModel",
            "bar_style": "success",
            "max": 100,
            "_view_module": "@jupyter-widgets/controls",
            "_model_module_version": "1.5.0",
            "value": 100,
            "_view_count": null,
            "_view_module_version": "1.5.0",
            "orientation": "horizontal",
            "min": 0,
            "description_tooltip": null,
            "_model_module": "@jupyter-widgets/controls",
            "layout": "IPY_MODEL_15f560b72c894d079fd309010ad001de"
          }
        },
        "c957bebbbf1d4e6d84c393f95b2aa141": {
          "model_module": "@jupyter-widgets/controls",
          "model_name": "HTMLModel",
          "model_module_version": "1.5.0",
          "state": {
            "_view_name": "HTMLView",
            "style": "IPY_MODEL_061c4d7ce8274fda8a48422ce45d3c7b",
            "_dom_classes": [],
            "description": "",
            "_model_name": "HTMLModel",
            "placeholder": "​",
            "_view_module": "@jupyter-widgets/controls",
            "_model_module_version": "1.5.0",
            "value": " 100/100 [00:51&lt;00:00,  1.95it/s]",
            "_view_count": null,
            "_view_module_version": "1.5.0",
            "description_tooltip": null,
            "_model_module": "@jupyter-widgets/controls",
            "layout": "IPY_MODEL_61c7f9bb7ea54653a0b91f9e65e25fb5"
          }
        },
        "309a5e9f92cf4a03a0a8a901159f838a": {
          "model_module": "@jupyter-widgets/controls",
          "model_name": "DescriptionStyleModel",
          "model_module_version": "1.5.0",
          "state": {
            "_view_name": "StyleView",
            "_model_name": "DescriptionStyleModel",
            "description_width": "",
            "_view_module": "@jupyter-widgets/base",
            "_model_module_version": "1.5.0",
            "_view_count": null,
            "_view_module_version": "1.2.0",
            "_model_module": "@jupyter-widgets/controls"
          }
        },
        "76f3c44cf3be46f793a9145b4b0afa57": {
          "model_module": "@jupyter-widgets/base",
          "model_name": "LayoutModel",
          "model_module_version": "1.2.0",
          "state": {
            "_view_name": "LayoutView",
            "grid_template_rows": null,
            "right": null,
            "justify_content": null,
            "_view_module": "@jupyter-widgets/base",
            "overflow": null,
            "_model_module_version": "1.2.0",
            "_view_count": null,
            "flex_flow": null,
            "width": null,
            "min_width": null,
            "border": null,
            "align_items": null,
            "bottom": null,
            "_model_module": "@jupyter-widgets/base",
            "top": null,
            "grid_column": null,
            "overflow_y": null,
            "overflow_x": null,
            "grid_auto_flow": null,
            "grid_area": null,
            "grid_template_columns": null,
            "flex": null,
            "_model_name": "LayoutModel",
            "justify_items": null,
            "grid_row": null,
            "max_height": null,
            "align_content": null,
            "visibility": null,
            "align_self": null,
            "height": null,
            "min_height": null,
            "padding": null,
            "grid_auto_rows": null,
            "grid_gap": null,
            "max_width": null,
            "order": null,
            "_view_module_version": "1.2.0",
            "grid_template_areas": null,
            "object_position": null,
            "object_fit": null,
            "grid_auto_columns": null,
            "margin": null,
            "display": null,
            "left": null
          }
        },
        "2fe3bca74b984956bfda1bd439bb4b3a": {
          "model_module": "@jupyter-widgets/controls",
          "model_name": "ProgressStyleModel",
          "model_module_version": "1.5.0",
          "state": {
            "_view_name": "StyleView",
            "_model_name": "ProgressStyleModel",
            "description_width": "",
            "_view_module": "@jupyter-widgets/base",
            "_model_module_version": "1.5.0",
            "_view_count": null,
            "_view_module_version": "1.2.0",
            "bar_color": null,
            "_model_module": "@jupyter-widgets/controls"
          }
        },
        "15f560b72c894d079fd309010ad001de": {
          "model_module": "@jupyter-widgets/base",
          "model_name": "LayoutModel",
          "model_module_version": "1.2.0",
          "state": {
            "_view_name": "LayoutView",
            "grid_template_rows": null,
            "right": null,
            "justify_content": null,
            "_view_module": "@jupyter-widgets/base",
            "overflow": null,
            "_model_module_version": "1.2.0",
            "_view_count": null,
            "flex_flow": null,
            "width": null,
            "min_width": null,
            "border": null,
            "align_items": null,
            "bottom": null,
            "_model_module": "@jupyter-widgets/base",
            "top": null,
            "grid_column": null,
            "overflow_y": null,
            "overflow_x": null,
            "grid_auto_flow": null,
            "grid_area": null,
            "grid_template_columns": null,
            "flex": null,
            "_model_name": "LayoutModel",
            "justify_items": null,
            "grid_row": null,
            "max_height": null,
            "align_content": null,
            "visibility": null,
            "align_self": null,
            "height": null,
            "min_height": null,
            "padding": null,
            "grid_auto_rows": null,
            "grid_gap": null,
            "max_width": null,
            "order": null,
            "_view_module_version": "1.2.0",
            "grid_template_areas": null,
            "object_position": null,
            "object_fit": null,
            "grid_auto_columns": null,
            "margin": null,
            "display": null,
            "left": null
          }
        },
        "061c4d7ce8274fda8a48422ce45d3c7b": {
          "model_module": "@jupyter-widgets/controls",
          "model_name": "DescriptionStyleModel",
          "model_module_version": "1.5.0",
          "state": {
            "_view_name": "StyleView",
            "_model_name": "DescriptionStyleModel",
            "description_width": "",
            "_view_module": "@jupyter-widgets/base",
            "_model_module_version": "1.5.0",
            "_view_count": null,
            "_view_module_version": "1.2.0",
            "_model_module": "@jupyter-widgets/controls"
          }
        },
        "61c7f9bb7ea54653a0b91f9e65e25fb5": {
          "model_module": "@jupyter-widgets/base",
          "model_name": "LayoutModel",
          "model_module_version": "1.2.0",
          "state": {
            "_view_name": "LayoutView",
            "grid_template_rows": null,
            "right": null,
            "justify_content": null,
            "_view_module": "@jupyter-widgets/base",
            "overflow": null,
            "_model_module_version": "1.2.0",
            "_view_count": null,
            "flex_flow": null,
            "width": null,
            "min_width": null,
            "border": null,
            "align_items": null,
            "bottom": null,
            "_model_module": "@jupyter-widgets/base",
            "top": null,
            "grid_column": null,
            "overflow_y": null,
            "overflow_x": null,
            "grid_auto_flow": null,
            "grid_area": null,
            "grid_template_columns": null,
            "flex": null,
            "_model_name": "LayoutModel",
            "justify_items": null,
            "grid_row": null,
            "max_height": null,
            "align_content": null,
            "visibility": null,
            "align_self": null,
            "height": null,
            "min_height": null,
            "padding": null,
            "grid_auto_rows": null,
            "grid_gap": null,
            "max_width": null,
            "order": null,
            "_view_module_version": "1.2.0",
            "grid_template_areas": null,
            "object_position": null,
            "object_fit": null,
            "grid_auto_columns": null,
            "margin": null,
            "display": null,
            "left": null
          }
        },
        "b7139d440bf344fca7587b0dfddb44be": {
          "model_module": "@jupyter-widgets/controls",
          "model_name": "HBoxModel",
          "model_module_version": "1.5.0",
          "state": {
            "_view_name": "HBoxView",
            "_dom_classes": [],
            "_model_name": "HBoxModel",
            "_view_module": "@jupyter-widgets/controls",
            "_model_module_version": "1.5.0",
            "_view_count": null,
            "_view_module_version": "1.5.0",
            "box_style": "",
            "layout": "IPY_MODEL_f36648aec52648a7a3f397991e88f87f",
            "_model_module": "@jupyter-widgets/controls",
            "children": [
              "IPY_MODEL_c141326d033c47f0819c5f8ab755d0eb",
              "IPY_MODEL_f5a1869500ee44e8b9a105ab3861e5d6",
              "IPY_MODEL_017e168d75db4b00b6f653ca88b2d8f3"
            ]
          }
        },
        "f36648aec52648a7a3f397991e88f87f": {
          "model_module": "@jupyter-widgets/base",
          "model_name": "LayoutModel",
          "model_module_version": "1.2.0",
          "state": {
            "_view_name": "LayoutView",
            "grid_template_rows": null,
            "right": null,
            "justify_content": null,
            "_view_module": "@jupyter-widgets/base",
            "overflow": null,
            "_model_module_version": "1.2.0",
            "_view_count": null,
            "flex_flow": null,
            "width": null,
            "min_width": null,
            "border": null,
            "align_items": null,
            "bottom": null,
            "_model_module": "@jupyter-widgets/base",
            "top": null,
            "grid_column": null,
            "overflow_y": null,
            "overflow_x": null,
            "grid_auto_flow": null,
            "grid_area": null,
            "grid_template_columns": null,
            "flex": null,
            "_model_name": "LayoutModel",
            "justify_items": null,
            "grid_row": null,
            "max_height": null,
            "align_content": null,
            "visibility": null,
            "align_self": null,
            "height": null,
            "min_height": null,
            "padding": null,
            "grid_auto_rows": null,
            "grid_gap": null,
            "max_width": null,
            "order": null,
            "_view_module_version": "1.2.0",
            "grid_template_areas": null,
            "object_position": null,
            "object_fit": null,
            "grid_auto_columns": null,
            "margin": null,
            "display": null,
            "left": null
          }
        },
        "c141326d033c47f0819c5f8ab755d0eb": {
          "model_module": "@jupyter-widgets/controls",
          "model_name": "HTMLModel",
          "model_module_version": "1.5.0",
          "state": {
            "_view_name": "HTMLView",
            "style": "IPY_MODEL_07de09463e294e81a088f8354451f862",
            "_dom_classes": [],
            "description": "",
            "_model_name": "HTMLModel",
            "placeholder": "​",
            "_view_module": "@jupyter-widgets/controls",
            "_model_module_version": "1.5.0",
            "value": "test4_levy: 100%",
            "_view_count": null,
            "_view_module_version": "1.5.0",
            "description_tooltip": null,
            "_model_module": "@jupyter-widgets/controls",
            "layout": "IPY_MODEL_817db9e432944dd0b809cf310daf3ec4"
          }
        },
        "f5a1869500ee44e8b9a105ab3861e5d6": {
          "model_module": "@jupyter-widgets/controls",
          "model_name": "FloatProgressModel",
          "model_module_version": "1.5.0",
          "state": {
            "_view_name": "ProgressView",
            "style": "IPY_MODEL_8dc6fdc39baa4d71a1e7e6976b66bec2",
            "_dom_classes": [],
            "description": "",
            "_model_name": "FloatProgressModel",
            "bar_style": "success",
            "max": 100,
            "_view_module": "@jupyter-widgets/controls",
            "_model_module_version": "1.5.0",
            "value": 100,
            "_view_count": null,
            "_view_module_version": "1.5.0",
            "orientation": "horizontal",
            "min": 0,
            "description_tooltip": null,
            "_model_module": "@jupyter-widgets/controls",
            "layout": "IPY_MODEL_0a08b49677c841aeab984f76a781076a"
          }
        },
        "017e168d75db4b00b6f653ca88b2d8f3": {
          "model_module": "@jupyter-widgets/controls",
          "model_name": "HTMLModel",
          "model_module_version": "1.5.0",
          "state": {
            "_view_name": "HTMLView",
            "style": "IPY_MODEL_8322fa6369f64fc1b33a26ff55515d40",
            "_dom_classes": [],
            "description": "",
            "_model_name": "HTMLModel",
            "placeholder": "​",
            "_view_module": "@jupyter-widgets/controls",
            "_model_module_version": "1.5.0",
            "value": " 100/100 [00:35&lt;00:00,  2.72it/s]",
            "_view_count": null,
            "_view_module_version": "1.5.0",
            "description_tooltip": null,
            "_model_module": "@jupyter-widgets/controls",
            "layout": "IPY_MODEL_e85a59b843114b038bd60dcfea180f97"
          }
        },
        "07de09463e294e81a088f8354451f862": {
          "model_module": "@jupyter-widgets/controls",
          "model_name": "DescriptionStyleModel",
          "model_module_version": "1.5.0",
          "state": {
            "_view_name": "StyleView",
            "_model_name": "DescriptionStyleModel",
            "description_width": "",
            "_view_module": "@jupyter-widgets/base",
            "_model_module_version": "1.5.0",
            "_view_count": null,
            "_view_module_version": "1.2.0",
            "_model_module": "@jupyter-widgets/controls"
          }
        },
        "817db9e432944dd0b809cf310daf3ec4": {
          "model_module": "@jupyter-widgets/base",
          "model_name": "LayoutModel",
          "model_module_version": "1.2.0",
          "state": {
            "_view_name": "LayoutView",
            "grid_template_rows": null,
            "right": null,
            "justify_content": null,
            "_view_module": "@jupyter-widgets/base",
            "overflow": null,
            "_model_module_version": "1.2.0",
            "_view_count": null,
            "flex_flow": null,
            "width": null,
            "min_width": null,
            "border": null,
            "align_items": null,
            "bottom": null,
            "_model_module": "@jupyter-widgets/base",
            "top": null,
            "grid_column": null,
            "overflow_y": null,
            "overflow_x": null,
            "grid_auto_flow": null,
            "grid_area": null,
            "grid_template_columns": null,
            "flex": null,
            "_model_name": "LayoutModel",
            "justify_items": null,
            "grid_row": null,
            "max_height": null,
            "align_content": null,
            "visibility": null,
            "align_self": null,
            "height": null,
            "min_height": null,
            "padding": null,
            "grid_auto_rows": null,
            "grid_gap": null,
            "max_width": null,
            "order": null,
            "_view_module_version": "1.2.0",
            "grid_template_areas": null,
            "object_position": null,
            "object_fit": null,
            "grid_auto_columns": null,
            "margin": null,
            "display": null,
            "left": null
          }
        },
        "8dc6fdc39baa4d71a1e7e6976b66bec2": {
          "model_module": "@jupyter-widgets/controls",
          "model_name": "ProgressStyleModel",
          "model_module_version": "1.5.0",
          "state": {
            "_view_name": "StyleView",
            "_model_name": "ProgressStyleModel",
            "description_width": "",
            "_view_module": "@jupyter-widgets/base",
            "_model_module_version": "1.5.0",
            "_view_count": null,
            "_view_module_version": "1.2.0",
            "bar_color": null,
            "_model_module": "@jupyter-widgets/controls"
          }
        },
        "0a08b49677c841aeab984f76a781076a": {
          "model_module": "@jupyter-widgets/base",
          "model_name": "LayoutModel",
          "model_module_version": "1.2.0",
          "state": {
            "_view_name": "LayoutView",
            "grid_template_rows": null,
            "right": null,
            "justify_content": null,
            "_view_module": "@jupyter-widgets/base",
            "overflow": null,
            "_model_module_version": "1.2.0",
            "_view_count": null,
            "flex_flow": null,
            "width": null,
            "min_width": null,
            "border": null,
            "align_items": null,
            "bottom": null,
            "_model_module": "@jupyter-widgets/base",
            "top": null,
            "grid_column": null,
            "overflow_y": null,
            "overflow_x": null,
            "grid_auto_flow": null,
            "grid_area": null,
            "grid_template_columns": null,
            "flex": null,
            "_model_name": "LayoutModel",
            "justify_items": null,
            "grid_row": null,
            "max_height": null,
            "align_content": null,
            "visibility": null,
            "align_self": null,
            "height": null,
            "min_height": null,
            "padding": null,
            "grid_auto_rows": null,
            "grid_gap": null,
            "max_width": null,
            "order": null,
            "_view_module_version": "1.2.0",
            "grid_template_areas": null,
            "object_position": null,
            "object_fit": null,
            "grid_auto_columns": null,
            "margin": null,
            "display": null,
            "left": null
          }
        },
        "8322fa6369f64fc1b33a26ff55515d40": {
          "model_module": "@jupyter-widgets/controls",
          "model_name": "DescriptionStyleModel",
          "model_module_version": "1.5.0",
          "state": {
            "_view_name": "StyleView",
            "_model_name": "DescriptionStyleModel",
            "description_width": "",
            "_view_module": "@jupyter-widgets/base",
            "_model_module_version": "1.5.0",
            "_view_count": null,
            "_view_module_version": "1.2.0",
            "_model_module": "@jupyter-widgets/controls"
          }
        },
        "e85a59b843114b038bd60dcfea180f97": {
          "model_module": "@jupyter-widgets/base",
          "model_name": "LayoutModel",
          "model_module_version": "1.2.0",
          "state": {
            "_view_name": "LayoutView",
            "grid_template_rows": null,
            "right": null,
            "justify_content": null,
            "_view_module": "@jupyter-widgets/base",
            "overflow": null,
            "_model_module_version": "1.2.0",
            "_view_count": null,
            "flex_flow": null,
            "width": null,
            "min_width": null,
            "border": null,
            "align_items": null,
            "bottom": null,
            "_model_module": "@jupyter-widgets/base",
            "top": null,
            "grid_column": null,
            "overflow_y": null,
            "overflow_x": null,
            "grid_auto_flow": null,
            "grid_area": null,
            "grid_template_columns": null,
            "flex": null,
            "_model_name": "LayoutModel",
            "justify_items": null,
            "grid_row": null,
            "max_height": null,
            "align_content": null,
            "visibility": null,
            "align_self": null,
            "height": null,
            "min_height": null,
            "padding": null,
            "grid_auto_rows": null,
            "grid_gap": null,
            "max_width": null,
            "order": null,
            "_view_module_version": "1.2.0",
            "grid_template_areas": null,
            "object_position": null,
            "object_fit": null,
            "grid_auto_columns": null,
            "margin": null,
            "display": null,
            "left": null
          }
        }
      }
    }
  },
  "cells": [
    {
      "cell_type": "markdown",
      "metadata": {
        "id": "NcGnAXGVqQK8"
      },
      "source": [
        "# Homework 2 - Evidence Accumulation\n",
        "\n",
        "This homework has two main parts:\n",
        "\n",
        "- First, we will build off the lab by exploring the relationship between decision threshold (one of the DDM parameters) and the performance of an accumulating agent.\n",
        "- Second, we will take a brief look at the role of randomness in the exploratory behavior of a sniffing agent."
      ]
    },
    {
      "cell_type": "markdown",
      "metadata": {
        "id": "6AYm4pEtH9O6"
      },
      "source": [
        "## Section - Setup"
      ]
    },
    {
      "cell_type": "markdown",
      "metadata": {
        "id": "H7wZ20Mhm9Dn"
      },
      "source": [
        "### Install explorationlib, import modules, configure notebook"
      ]
    },
    {
      "cell_type": "code",
      "metadata": {
        "id": "B5qSpWzbtX3b",
        "colab": {
          "base_uri": "https://localhost:8080/"
        },
        "outputId": "19486a58-9b6b-49f5-e1aa-89d1c5a02a67"
      },
      "source": [
        "# ADMCode uses an old version of numba\n",
        "!pip install numba==0.48\n",
        "!pip install --upgrade git+https://github.com/clappm/AdaptiveDecisionMaking_2018\n",
        "!pip install --upgrade git+https://github.com/parenthetical-e/explorationlib\n",
        "!pip install --upgrade git+https://github.com/MattChanTK/gym-maze.git\n",
        "!pip install celluloid # for the gifs\n",
        "\n",
        "from __future__ import division\n",
        "from ADMCode import visualize as vis\n",
        "from ADMCode import ddm, sdt\n",
        "\n",
        "import numpy as np\n",
        "import pandas as pd\n",
        "\n",
        "from ipywidgets import interactive\n",
        "import matplotlib.pyplot as plt\n",
        "import seaborn as sns\n",
        "import warnings\n",
        "\n",
        "# Import misc\n",
        "import shutil\n",
        "import glob\n",
        "import os\n",
        "import copy\n",
        "import sys\n",
        "\n",
        "# Vis - 1\n",
        "import numpy as np\n",
        "import seaborn as sns\n",
        "import matplotlib.pyplot as plt\n",
        "\n",
        "# Exp\n",
        "from explorationlib.run import experiment\n",
        "from explorationlib.util import select_exp\n",
        "from explorationlib.util import load\n",
        "from explorationlib.util import save\n",
        "\n",
        "# Agents\n",
        "from explorationlib.agent import DiffusionDiscrete\n",
        "from explorationlib.agent import GradientDiffusionGrid\n",
        "from explorationlib.agent import GradientDiffusionDiscrete\n",
        "from explorationlib.agent import AccumulatorGradientGrid\n",
        "from explorationlib.agent import TruncatedLevyDiscrete\n",
        "\n",
        "# Env\n",
        "from explorationlib.local_gym import ScentGrid\n",
        "from explorationlib.local_gym import create_grid_scent\n",
        "from explorationlib.local_gym import uniform_targets\n",
        "from explorationlib.local_gym import constant_values\n",
        "\n",
        "# Vis - 2\n",
        "from explorationlib.plot import plot_position2d\n",
        "from explorationlib.plot import plot_length_hist\n",
        "from explorationlib.plot import plot_length\n",
        "from explorationlib.plot import plot_targets2d\n",
        "from explorationlib.plot import plot_scent_grid\n",
        "\n",
        "# Score\n",
        "from explorationlib.score import total_reward\n",
        "from explorationlib.score import num_death\n",
        "\n",
        "# Pretty plots\n",
        "warnings.simplefilter('ignore', np.RankWarning)\n",
        "warnings.filterwarnings(\"ignore\", module=\"matplotlib\")\n",
        "warnings.filterwarnings(\"ignore\")\n",
        "sns.set(style='white', font_scale=1.3)\n",
        "\n",
        "%matplotlib inline\n",
        "%config InlineBackend.figure_format='retina'\n",
        "%config IPCompleter.greedy=True\n",
        "plt.rcParams[\"axes.facecolor\"] = \"white\"\n",
        "plt.rcParams[\"figure.facecolor\"] = \"white\"\n",
        "plt.rcParams[\"font.size\"] = \"16\"\n",
        "\n",
        "# Dev\n",
        "%load_ext autoreload\n",
        "%autoreload 2"
      ],
      "execution_count": 1,
      "outputs": [
        {
          "output_type": "stream",
          "name": "stdout",
          "text": [
            "Collecting numba==0.48\n",
            "  Downloading numba-0.48.0-1-cp37-cp37m-manylinux2014_x86_64.whl (3.5 MB)\n",
            "\u001b[K     |████████████████████████████████| 3.5 MB 5.4 MB/s \n",
            "\u001b[?25hRequirement already satisfied: setuptools in /usr/local/lib/python3.7/dist-packages (from numba==0.48) (57.4.0)\n",
            "Collecting llvmlite<0.32.0,>=0.31.0dev0\n",
            "  Downloading llvmlite-0.31.0-cp37-cp37m-manylinux1_x86_64.whl (20.2 MB)\n",
            "\u001b[K     |████████████████████████████████| 20.2 MB 1.5 MB/s \n",
            "\u001b[?25hRequirement already satisfied: numpy>=1.15 in /usr/local/lib/python3.7/dist-packages (from numba==0.48) (1.19.5)\n",
            "Installing collected packages: llvmlite, numba\n",
            "  Attempting uninstall: llvmlite\n",
            "    Found existing installation: llvmlite 0.34.0\n",
            "    Uninstalling llvmlite-0.34.0:\n",
            "      Successfully uninstalled llvmlite-0.34.0\n",
            "  Attempting uninstall: numba\n",
            "    Found existing installation: numba 0.51.2\n",
            "    Uninstalling numba-0.51.2:\n",
            "      Successfully uninstalled numba-0.51.2\n",
            "Successfully installed llvmlite-0.31.0 numba-0.48.0\n",
            "Collecting git+https://github.com/clappm/AdaptiveDecisionMaking_2018\n",
            "  Cloning https://github.com/clappm/AdaptiveDecisionMaking_2018 to /tmp/pip-req-build-2onfu1mt\n",
            "  Running command git clone -q https://github.com/clappm/AdaptiveDecisionMaking_2018 /tmp/pip-req-build-2onfu1mt\n",
            "Requirement already satisfied: numpy in /usr/local/lib/python3.7/dist-packages (from ADMCode==0.5.2) (1.19.5)\n",
            "Requirement already satisfied: scipy in /usr/local/lib/python3.7/dist-packages (from ADMCode==0.5.2) (1.4.1)\n",
            "Requirement already satisfied: pandas in /usr/local/lib/python3.7/dist-packages (from ADMCode==0.5.2) (1.1.5)\n",
            "Requirement already satisfied: matplotlib in /usr/local/lib/python3.7/dist-packages (from ADMCode==0.5.2) (3.2.2)\n",
            "Requirement already satisfied: seaborn in /usr/local/lib/python3.7/dist-packages (from ADMCode==0.5.2) (0.11.2)\n",
            "Requirement already satisfied: scikit-learn in /usr/local/lib/python3.7/dist-packages (from ADMCode==0.5.2) (0.22.2.post1)\n",
            "Requirement already satisfied: numba in /usr/local/lib/python3.7/dist-packages (from ADMCode==0.5.2) (0.48.0)\n",
            "Requirement already satisfied: future in /usr/local/lib/python3.7/dist-packages (from ADMCode==0.5.2) (0.16.0)\n",
            "Requirement already satisfied: cycler>=0.10 in /usr/local/lib/python3.7/dist-packages (from matplotlib->ADMCode==0.5.2) (0.10.0)\n",
            "Requirement already satisfied: kiwisolver>=1.0.1 in /usr/local/lib/python3.7/dist-packages (from matplotlib->ADMCode==0.5.2) (1.3.2)\n",
            "Requirement already satisfied: python-dateutil>=2.1 in /usr/local/lib/python3.7/dist-packages (from matplotlib->ADMCode==0.5.2) (2.8.2)\n",
            "Requirement already satisfied: pyparsing!=2.0.4,!=2.1.2,!=2.1.6,>=2.0.1 in /usr/local/lib/python3.7/dist-packages (from matplotlib->ADMCode==0.5.2) (2.4.7)\n",
            "Requirement already satisfied: six in /usr/local/lib/python3.7/dist-packages (from cycler>=0.10->matplotlib->ADMCode==0.5.2) (1.15.0)\n",
            "Requirement already satisfied: setuptools in /usr/local/lib/python3.7/dist-packages (from numba->ADMCode==0.5.2) (57.4.0)\n",
            "Requirement already satisfied: llvmlite<0.32.0,>=0.31.0dev0 in /usr/local/lib/python3.7/dist-packages (from numba->ADMCode==0.5.2) (0.31.0)\n",
            "Requirement already satisfied: pytz>=2017.2 in /usr/local/lib/python3.7/dist-packages (from pandas->ADMCode==0.5.2) (2018.9)\n",
            "Requirement already satisfied: joblib>=0.11 in /usr/local/lib/python3.7/dist-packages (from scikit-learn->ADMCode==0.5.2) (1.0.1)\n",
            "Building wheels for collected packages: ADMCode\n",
            "  Building wheel for ADMCode (setup.py) ... \u001b[?25l\u001b[?25hdone\n",
            "  Created wheel for ADMCode: filename=ADMCode-0.5.2-py3-none-any.whl size=39223 sha256=6be65b1179e34dd3fdac122d682b165222bf5ffd82bd8ed37a1eaa5dd6ab0530\n",
            "  Stored in directory: /tmp/pip-ephem-wheel-cache-5lsxnhxi/wheels/39/45/1c/971b7fac68419e436447919c986b425b87e4ab1ed2d33d9fa4\n",
            "Successfully built ADMCode\n",
            "Installing collected packages: ADMCode\n",
            "Successfully installed ADMCode-0.5.2\n",
            "Collecting git+https://github.com/parenthetical-e/explorationlib\n",
            "  Cloning https://github.com/parenthetical-e/explorationlib to /tmp/pip-req-build-s44uwcfr\n",
            "  Running command git clone -q https://github.com/parenthetical-e/explorationlib /tmp/pip-req-build-s44uwcfr\n",
            "Building wheels for collected packages: explorationlib\n",
            "  Building wheel for explorationlib (setup.py) ... \u001b[?25l\u001b[?25hdone\n",
            "  Created wheel for explorationlib: filename=explorationlib-0.0.1-py3-none-any.whl size=24681 sha256=b0f041a99d14682629e2e726c8f722d313242192c767bd4a1fe7dbce2f223785\n",
            "  Stored in directory: /tmp/pip-ephem-wheel-cache-j0pfiupu/wheels/66/4e/7a/e9f6ae3eff8a06bc71faf2690450f976e9ae776c7a5a6486a4\n",
            "Successfully built explorationlib\n",
            "Installing collected packages: explorationlib\n",
            "Successfully installed explorationlib-0.0.1\n",
            "Collecting git+https://github.com/MattChanTK/gym-maze.git\n",
            "  Cloning https://github.com/MattChanTK/gym-maze.git to /tmp/pip-req-build-89ljig1j\n",
            "  Running command git clone -q https://github.com/MattChanTK/gym-maze.git /tmp/pip-req-build-89ljig1j\n",
            "Requirement already satisfied: gym in /usr/local/lib/python3.7/dist-packages (from gym-maze==0.4) (0.17.3)\n",
            "Collecting pygame\n",
            "  Downloading pygame-2.0.1-cp37-cp37m-manylinux1_x86_64.whl (11.8 MB)\n",
            "\u001b[K     |████████████████████████████████| 11.8 MB 5.2 MB/s \n",
            "\u001b[?25hRequirement already satisfied: numpy in /usr/local/lib/python3.7/dist-packages (from gym-maze==0.4) (1.19.5)\n",
            "Requirement already satisfied: scipy in /usr/local/lib/python3.7/dist-packages (from gym->gym-maze==0.4) (1.4.1)\n",
            "Requirement already satisfied: pyglet<=1.5.0,>=1.4.0 in /usr/local/lib/python3.7/dist-packages (from gym->gym-maze==0.4) (1.5.0)\n",
            "Requirement already satisfied: cloudpickle<1.7.0,>=1.2.0 in /usr/local/lib/python3.7/dist-packages (from gym->gym-maze==0.4) (1.3.0)\n",
            "Requirement already satisfied: future in /usr/local/lib/python3.7/dist-packages (from pyglet<=1.5.0,>=1.4.0->gym->gym-maze==0.4) (0.16.0)\n",
            "Building wheels for collected packages: gym-maze\n",
            "  Building wheel for gym-maze (setup.py) ... \u001b[?25l\u001b[?25hdone\n",
            "  Created wheel for gym-maze: filename=gym_maze-0.4-py3-none-any.whl size=14241 sha256=b544ba4382847cd1f0e9671c9d2dab852ab8005dc553adb0c60776a7329b39ba\n",
            "  Stored in directory: /tmp/pip-ephem-wheel-cache-xp5eytkf/wheels/01/f8/86/0dd8c448e192abff02b2ae4d0d3f6bc0ab08a7d72d95590356\n",
            "Successfully built gym-maze\n",
            "Installing collected packages: pygame, gym-maze\n",
            "Successfully installed gym-maze-0.4 pygame-2.0.1\n",
            "Collecting celluloid\n",
            "  Downloading celluloid-0.2.0-py3-none-any.whl (5.4 kB)\n",
            "Requirement already satisfied: matplotlib in /usr/local/lib/python3.7/dist-packages (from celluloid) (3.2.2)\n",
            "Requirement already satisfied: numpy>=1.11 in /usr/local/lib/python3.7/dist-packages (from matplotlib->celluloid) (1.19.5)\n",
            "Requirement already satisfied: python-dateutil>=2.1 in /usr/local/lib/python3.7/dist-packages (from matplotlib->celluloid) (2.8.2)\n",
            "Requirement already satisfied: cycler>=0.10 in /usr/local/lib/python3.7/dist-packages (from matplotlib->celluloid) (0.10.0)\n",
            "Requirement already satisfied: pyparsing!=2.0.4,!=2.1.2,!=2.1.6,>=2.0.1 in /usr/local/lib/python3.7/dist-packages (from matplotlib->celluloid) (2.4.7)\n",
            "Requirement already satisfied: kiwisolver>=1.0.1 in /usr/local/lib/python3.7/dist-packages (from matplotlib->celluloid) (1.3.2)\n",
            "Requirement already satisfied: six in /usr/local/lib/python3.7/dist-packages (from cycler>=0.10->matplotlib->celluloid) (1.15.0)\n",
            "Installing collected packages: celluloid\n",
            "Successfully installed celluloid-0.2.0\n"
          ]
        },
        {
          "output_type": "stream",
          "name": "stderr",
          "text": [
            "/usr/local/lib/python3.7/dist-packages/explorationlib/run.py:9: TqdmExperimentalWarning: Using `tqdm.autonotebook.tqdm` in notebook mode. Use `tqdm.tqdm` instead to force console mode (e.g. in jupyter console)\n",
            "  from tqdm.autonotebook import tqdm\n"
          ]
        },
        {
          "output_type": "stream",
          "name": "stdout",
          "text": [
            "pygame 2.0.1 (SDL 2.0.14, Python 3.7.12)\n",
            "Hello from the pygame community. https://www.pygame.org/contribute.html\n"
          ]
        }
      ]
    },
    {
      "cell_type": "markdown",
      "metadata": {
        "id": "af-OcEJHthiF"
      },
      "source": [
        "## Section - Influence of Threshold on Performance [60 pts total]\n",
        "\n",
        "How does decision thershold influence behavior? Here, we will perform a parameter sweep over the decision threshold to see how the agent is affected in a basic sniffing task.\n",
        "\n",
        "For this section, you will need to slightly modify the lab code to loop over a list of thresholds rather than a list of drift rates."
      ]
    },
    {
      "cell_type": "markdown",
      "metadata": {
        "id": "XCT_K4BZuXi2"
      },
      "source": [
        "### Define shared parameters and initialize environment [5 pts]"
      ]
    },
    {
      "cell_type": "code",
      "metadata": {
        "id": "OCEi7DODu4L2"
      },
      "source": [
        "# Shared exp parameters\n",
        "num_steps = 200\n",
        "max_steps = 10\n",
        "seed_value = 5838\n",
        "\n",
        "min_length = 1\n",
        "step_size = 0.1\n",
        "\n",
        "noise_sigma = 2\n",
        "detection_radius = 1\n",
        "num_targets = 250 \n",
        "target_boundary = (100, 100)\n",
        "\n",
        "# Env\n",
        "env = ScentGrid(mode=None)\n",
        "env.seed(seed_value)\n",
        "\n",
        "# Targets\n",
        "prng = np.random.RandomState(seed_value)\n",
        "targets = uniform_targets(num_targets, target_boundary, prng=prng)\n",
        "values = constant_values(targets, 1)\n",
        "\n",
        "# Scents\n",
        "coord, scent = create_grid_scent(target_boundary, amplitude=1, sigma=10)\n",
        "scents = [scent for _ in range(len(targets))]\n",
        "env.add_scents(targets, values, coord, scents, noise_sigma=noise_sigma)"
      ],
      "execution_count": 2,
      "outputs": []
    },
    {
      "cell_type": "markdown",
      "metadata": {
        "id": "5C4mGF2hvIIF"
      },
      "source": [
        "### Create a list of thresholds to test [5 pts]\n",
        "\n",
        "Select at least 5 values.  For reference, the lab used a threshold of 3."
      ]
    },
    {
      "cell_type": "code",
      "metadata": {
        "id": "U8yyJVsWvRpu"
      },
      "source": [
        "# Our parameters \n",
        "thresholds = [1.0, 2.0, 3.0, 4.0, 5.0]\n",
        "\n",
        "# For plotting\n",
        "colors = [\"darkgreen\", \"seagreen\", \"cadetblue\", \"steelblue\", \"mediumpurple\"]\n",
        "names = thresholds # list(range(5))"
      ],
      "execution_count": 3,
      "outputs": []
    },
    {
      "cell_type": "markdown",
      "metadata": {
        "id": "Melo6U2mv5OT"
      },
      "source": [
        "### Run 100 experiments for each threshold [10 pts]\n",
        "\n",
        "Use a drift rate of 1.0, the middle value from the lab."
      ]
    },
    {
      "cell_type": "code",
      "metadata": {
        "id": "wLhdb12XwX8h",
        "colab": {
          "base_uri": "https://localhost:8080/",
          "height": 177,
          "referenced_widgets": [
            "03ec52ffb9494df09cc5e80141bed0c7",
            "b578d3c3c09a465c882966ea9feec892",
            "09b26784665d4735b4cade0d43205914",
            "5a731aeb5f304c25903714ef37e2e6f9",
            "c957bebbbf1d4e6d84c393f95b2aa141",
            "309a5e9f92cf4a03a0a8a901159f838a",
            "76f3c44cf3be46f793a9145b4b0afa57",
            "2fe3bca74b984956bfda1bd439bb4b3a",
            "15f560b72c894d079fd309010ad001de",
            "061c4d7ce8274fda8a48422ce45d3c7b",
            "61c7f9bb7ea54653a0b91f9e65e25fb5"
          ]
        },
        "outputId": "b9e74039-005f-4ef4-dfe1-6e379b2edc06"
      },
      "source": [
        "# Exp params\n",
        "drift_rate = 1.0\n",
        "accumulate_sigma = 1.0\n",
        "\n",
        "num_experiments = 100\n",
        "\n",
        "# Run\n",
        "results = []\n",
        "for i, threshold in zip(names, thresholds):\n",
        "    accum = AccumulatorGradientGrid(\n",
        "        min_length=min_length, \n",
        "        max_steps=max_steps, \n",
        "        threshold=threshold, \n",
        "        drift_rate=drift_rate,\n",
        "        accumulate_sigma=accumulate_sigma\n",
        "    )\n",
        "    accum.seed(seed_value)\n",
        "    # !\n",
        "    exp = experiment(\n",
        "        f\"accum_{i}\",\n",
        "        accum,\n",
        "        env,\n",
        "        num_steps=num_steps,\n",
        "        num_experiments=num_experiments,\n",
        "        dump=False,\n",
        "        split_state=True,\n",
        "        seed=seed_value\n",
        "    )\n",
        "    results.append(exp)"
      ],
      "execution_count": 4,
      "outputs": [
        {
          "output_type": "display_data",
          "data": {
            "application/vnd.jupyter.widget-view+json": {
              "model_id": "03ec52ffb9494df09cc5e80141bed0c7",
              "version_minor": 0,
              "version_major": 2
            },
            "text/plain": [
              "accum_1:   0%|          | 0/100 [00:00<?, ?it/s]"
            ]
          },
          "metadata": {}
        },
        {
          "output_type": "display_data",
          "data": {
            "application/vnd.jupyter.widget-view+json": {
              "model_id": "ff8d7ca3b82545ecab3024a11b3ddc27",
              "version_minor": 0,
              "version_major": 2
            },
            "text/plain": [
              "accum_2:   0%|          | 0/100 [00:00<?, ?it/s]"
            ]
          },
          "metadata": {}
        },
        {
          "output_type": "display_data",
          "data": {
            "application/vnd.jupyter.widget-view+json": {
              "model_id": "25fb7e9626da4d929e5839b1e1468a02",
              "version_minor": 0,
              "version_major": 2
            },
            "text/plain": [
              "accum_3:   0%|          | 0/100 [00:00<?, ?it/s]"
            ]
          },
          "metadata": {}
        },
        {
          "output_type": "display_data",
          "data": {
            "application/vnd.jupyter.widget-view+json": {
              "model_id": "552be955ac214ec1872a42a74d4cb0ca",
              "version_minor": 0,
              "version_major": 2
            },
            "text/plain": [
              "accum_4:   0%|          | 0/100 [00:00<?, ?it/s]"
            ]
          },
          "metadata": {}
        },
        {
          "output_type": "display_data",
          "data": {
            "application/vnd.jupyter.widget-view+json": {
              "model_id": "137c3efa9bd041afb41b916d2d97f5d9",
              "version_minor": 0,
              "version_major": 2
            },
            "text/plain": [
              "accum_5:   0%|          | 0/100 [00:00<?, ?it/s]"
            ]
          },
          "metadata": {}
        }
      ]
    },
    {
      "cell_type": "markdown",
      "metadata": {
        "id": "jDqaRuTKwlF9"
      },
      "source": [
        "### Create plots of distance traveled, number of deaths, best score, and average score [10 pts]"
      ]
    },
    {
      "cell_type": "code",
      "metadata": {
        "id": "AuePnVv6wyO3",
        "colab": {
          "base_uri": "https://localhost:8080/",
          "height": 225
        },
        "outputId": "d138cecc-a844-47d2-a805-b199708bad35"
      },
      "source": [
        "# Distance Traveled\n",
        "# Score\n",
        "scores = []\n",
        "for result in results:  \n",
        "    l = 0.0\n",
        "    for r in result:\n",
        "        l += r[\"agent_total_l\"][-1]\n",
        "    scores.append(l)   \n",
        "\n",
        "# Tabulate\n",
        "m, sd = [], []\n",
        "for s in scores:\n",
        "    m.append(np.mean(s))\n",
        "\n",
        "# -\n",
        "fig = plt.figure(figsize=(3, 3))\n",
        "plt.bar([str(n) for n in names], m, color=\"black\", alpha=0.6)\n",
        "plt.ylabel(\"Total distance\")\n",
        "plt.xlabel(\"Model code\")\n",
        "plt.tight_layout()\n",
        "sns.despine()"
      ],
      "execution_count": 5,
      "outputs": [
        {
          "output_type": "display_data",
          "data": {
            "image/png": "[encoded data removed]",
            "text/plain": [
              "<Figure size 216x216 with 1 Axes>"
            ]
          },
          "metadata": {
            "image/png": {
              "width": 208,
              "height": 208
            },
            "needs_background": "light"
          }
        }
      ]
    },
    {
      "cell_type": "code",
      "metadata": {
        "colab": {
          "base_uri": "https://localhost:8080/",
          "height": 385
        },
        "id": "aDWp7aGwOp1T",
        "outputId": "ae44e7e7-38c1-4c95-fcff-15c88eae1707"
      },
      "source": [
        "# Deaths\n",
        "# Score\n",
        "scores = []\n",
        "for result in results:\n",
        "    scores.append(num_death(result))   \n",
        "\n",
        "# -\n",
        "fig = plt.figure(figsize=(3, 3))\n",
        "plt.bar([str(n) for n in names], scores, color=\"black\", alpha=0.6)\n",
        "plt.ylabel(\"Deaths\")\n",
        "plt.xlabel(\"Model code\")\n",
        "plt.tight_layout()\n",
        "sns.despine()"
      ],
      "execution_count": 6,
      "outputs": [
        {
          "output_type": "display_data",
          "data": {
            "application/vnd.jupyter.widget-view+json": {
              "model_id": "64c0735446394f738ee650b43e9fdbd3",
              "version_minor": 0,
              "version_major": 2
            },
            "text/plain": [
              "num_death:   0%|          | 0/100 [00:00<?, ?it/s]"
            ]
          },
          "metadata": {}
        },
        {
          "output_type": "display_data",
          "data": {
            "application/vnd.jupyter.widget-view+json": {
              "model_id": "bd9a0e0fa4094735a62d82b29cefa201",
              "version_minor": 0,
              "version_major": 2
            },
            "text/plain": [
              "num_death:   0%|          | 0/100 [00:00<?, ?it/s]"
            ]
          },
          "metadata": {}
        },
        {
          "output_type": "display_data",
          "data": {
            "application/vnd.jupyter.widget-view+json": {
              "model_id": "496739f3ec874ddd914d0b596c2c53ec",
              "version_minor": 0,
              "version_major": 2
            },
            "text/plain": [
              "num_death:   0%|          | 0/100 [00:00<?, ?it/s]"
            ]
          },
          "metadata": {}
        },
        {
          "output_type": "display_data",
          "data": {
            "application/vnd.jupyter.widget-view+json": {
              "model_id": "0fbd048d28c14f9dbcb18fa890554e8d",
              "version_minor": 0,
              "version_major": 2
            },
            "text/plain": [
              "num_death:   0%|          | 0/100 [00:00<?, ?it/s]"
            ]
          },
          "metadata": {}
        },
        {
          "output_type": "display_data",
          "data": {
            "application/vnd.jupyter.widget-view+json": {
              "model_id": "313f636944e345018c3929cc5e6f0bdc",
              "version_minor": 0,
              "version_major": 2
            },
            "text/plain": [
              "num_death:   0%|          | 0/100 [00:00<?, ?it/s]"
            ]
          },
          "metadata": {}
        },
        {
          "output_type": "display_data",
          "data": {
            "image/png": "[encoded data removed]",
            "text/plain": [
              "<Figure size 216x216 with 1 Axes>"
            ]
          },
          "metadata": {
            "image/png": {
              "width": 208,
              "height": 208
            },
            "needs_background": "light"
          }
        }
      ]
    },
    {
      "cell_type": "code",
      "metadata": {
        "colab": {
          "base_uri": "https://localhost:8080/",
          "height": 385
        },
        "id": "sz85Bsi1PCpW",
        "outputId": "9f25af22-e66a-4dc7-a404-3cf4bcd72165"
      },
      "source": [
        "#Best Score\n",
        "# Score\n",
        "scores = []\n",
        "for result in results:\n",
        "    r = total_reward(result)\n",
        "    scores.append(r)   \n",
        "\n",
        "# Tabulate\n",
        "m = []\n",
        "for s in scores:\n",
        "    m.append(np.max(s))\n",
        "\n",
        "# -\n",
        "fig = plt.figure(figsize=(3, 3))\n",
        "plt.bar([str(n) for n in names], m, color=\"black\", alpha=0.6)\n",
        "plt.ylabel(\"Best score\")\n",
        "plt.xlabel(\"Model code\")\n",
        "plt.tight_layout()\n",
        "sns.despine()"
      ],
      "execution_count": 7,
      "outputs": [
        {
          "output_type": "display_data",
          "data": {
            "application/vnd.jupyter.widget-view+json": {
              "model_id": "4a015b978dd3484f811885d5f72b1e71",
              "version_minor": 0,
              "version_major": 2
            },
            "text/plain": [
              "total_reward:   0%|          | 0/100 [00:00<?, ?it/s]"
            ]
          },
          "metadata": {}
        },
        {
          "output_type": "display_data",
          "data": {
            "application/vnd.jupyter.widget-view+json": {
              "model_id": "e83547e8eb6b47e7ade35aa1dda678bb",
              "version_minor": 0,
              "version_major": 2
            },
            "text/plain": [
              "total_reward:   0%|          | 0/100 [00:00<?, ?it/s]"
            ]
          },
          "metadata": {}
        },
        {
          "output_type": "display_data",
          "data": {
            "application/vnd.jupyter.widget-view+json": {
              "model_id": "26c9b5ffbfd84e3699d4f8249f494cfc",
              "version_minor": 0,
              "version_major": 2
            },
            "text/plain": [
              "total_reward:   0%|          | 0/100 [00:00<?, ?it/s]"
            ]
          },
          "metadata": {}
        },
        {
          "output_type": "display_data",
          "data": {
            "application/vnd.jupyter.widget-view+json": {
              "model_id": "30d07118ec074190a0fa38d528de3455",
              "version_minor": 0,
              "version_major": 2
            },
            "text/plain": [
              "total_reward:   0%|          | 0/100 [00:00<?, ?it/s]"
            ]
          },
          "metadata": {}
        },
        {
          "output_type": "display_data",
          "data": {
            "application/vnd.jupyter.widget-view+json": {
              "model_id": "526e12c3e3174882b3779b2027b5bf01",
              "version_minor": 0,
              "version_major": 2
            },
            "text/plain": [
              "total_reward:   0%|          | 0/100 [00:00<?, ?it/s]"
            ]
          },
          "metadata": {}
        },
        {
          "output_type": "display_data",
          "data": {
            "image/png": "[encoded data removed]",
            "text/plain": [
              "<Figure size 216x216 with 1 Axes>"
            ]
          },
          "metadata": {
            "image/png": {
              "width": 208,
              "height": 208
            },
            "needs_background": "light"
          }
        }
      ]
    },
    {
      "cell_type": "code",
      "metadata": {
        "colab": {
          "base_uri": "https://localhost:8080/",
          "height": 593
        },
        "id": "WOu1hIYHQXLi",
        "outputId": "6775a160-e543-4e06-a14b-1762cdd61091"
      },
      "source": [
        "# Score\n",
        "scores = []\n",
        "for result in results:  \n",
        "    r = total_reward(result)\n",
        "    scores.append(r)   \n",
        "\n",
        "# Tabulate\n",
        "m, sd = [], []\n",
        "for s in scores:\n",
        "    m.append(np.mean(s))\n",
        "    sd.append(np.std(s))\n",
        "\n",
        "# Plot means\n",
        "fig = plt.figure(figsize=(3, 3))\n",
        "plt.bar([str(n) for n in names], m, yerr=sd, color=\"black\", alpha=0.6)\n",
        "plt.ylabel(\"Avg. score\")\n",
        "plt.xlabel(\"Model code\")\n",
        "plt.tight_layout()\n",
        "sns.despine()\n",
        "\n",
        "# Dists of means\n",
        "fig = plt.figure(figsize=(6, 3))\n",
        "for (i, s, c) in zip(names, scores, colors):\n",
        "    plt.hist(s, label=i, color=c, alpha=0.5, bins=list(range(1,50,1)))\n",
        "    plt.legend()\n",
        "    plt.xlabel(\"Score\")\n",
        "    plt.tight_layout()\n",
        "    sns.despine()"
      ],
      "execution_count": 9,
      "outputs": [
        {
          "output_type": "display_data",
          "data": {
            "application/vnd.jupyter.widget-view+json": {
              "model_id": "21de2d7031fd40e2b01af6f4f600fcf1",
              "version_minor": 0,
              "version_major": 2
            },
            "text/plain": [
              "total_reward:   0%|          | 0/100 [00:00<?, ?it/s]"
            ]
          },
          "metadata": {}
        },
        {
          "output_type": "display_data",
          "data": {
            "application/vnd.jupyter.widget-view+json": {
              "model_id": "4b95cdb7ee4d4a98a7a669a8fcc00cc9",
              "version_minor": 0,
              "version_major": 2
            },
            "text/plain": [
              "total_reward:   0%|          | 0/100 [00:00<?, ?it/s]"
            ]
          },
          "metadata": {}
        },
        {
          "output_type": "display_data",
          "data": {
            "application/vnd.jupyter.widget-view+json": {
              "model_id": "1ac9a551344a476881dbc0140925bb7b",
              "version_minor": 0,
              "version_major": 2
            },
            "text/plain": [
              "total_reward:   0%|          | 0/100 [00:00<?, ?it/s]"
            ]
          },
          "metadata": {}
        },
        {
          "output_type": "display_data",
          "data": {
            "application/vnd.jupyter.widget-view+json": {
              "model_id": "44965d971ab34d1fbdcb9d5da1f9d7a5",
              "version_minor": 0,
              "version_major": 2
            },
            "text/plain": [
              "total_reward:   0%|          | 0/100 [00:00<?, ?it/s]"
            ]
          },
          "metadata": {}
        },
        {
          "output_type": "display_data",
          "data": {
            "application/vnd.jupyter.widget-view+json": {
              "model_id": "aade8165c81b47c49929b03d9161fdd9",
              "version_minor": 0,
              "version_major": 2
            },
            "text/plain": [
              "total_reward:   0%|          | 0/100 [00:00<?, ?it/s]"
            ]
          },
          "metadata": {}
        },
        {
          "output_type": "display_data",
          "data": {
            "image/png": "[encoded data removed]",
            "text/plain": [
              "<Figure size 216x216 with 1 Axes>"
            ]
          },
          "metadata": {
            "image/png": {
              "width": 208,
              "height": 208
            },
            "needs_background": "light"
          }
        },
        {
          "output_type": "display_data",
          "data": {
            "image/png": "[encoded data removed]",
            "text/plain": [
              "<Figure size 432x216 with 1 Axes>"
            ]
          },
          "metadata": {
            "image/png": {
              "width": 424,
              "height": 208
            },
            "needs_background": "light"
          }
        }
      ]
    },
    {
      "cell_type": "markdown",
      "metadata": {
        "id": "gny05trIt7L8"
      },
      "source": [
        "### Question 1 [15 pts]\n",
        "\n",
        "Based on the plots above and in your own words, summarize the relationship between the decision _threshold_ and the total distance, number of deaths, best reward and average reward.  How do the effects of increasing threshold compare to the effects of increasing drift rate (from the example in lab)?"
      ]
    },
    {
      "cell_type": "markdown",
      "metadata": {
        "id": "FV8ggZnUztN_"
      },
      "source": [
        "**Total Distance:** *The higher the threshold the shorter the total distance travelled. This is the opposite of how drift rate affects total distance: when drift rate increases so does the total distance travelled.*\n",
        "\n",
        "**Deaths:** *The higher the threshold the more deaths there were. This is also the opposite of how drift rate affects death: when drift rate increases, the number of deaths decrease.*\n",
        "\n",
        "**Best Score:** *The best score had a kind of bell curve pattern with the peak threshold at 4.0 (Maya's graph which had a wider range of threshold values also showed this pattern which further emphasized my original thought). The drift rate seems to have a less consistent affect on the best score, with a general pattern being the a low drift rate has a lower best score but without enough evidence to show a strong correlation.*\n",
        "\n",
        "**Average Score:** *The average score seems to have essentially no correlation to the threshold value because they are all very similar with the edge values of the threshold (with the center being 4.0) are more consistent in a lower range of scores while the threshold of 4.0 has a larger range. This seemed very similar to how drift rate affected the average score (no correlation and a range increase near the middle values).*"
      ]
    },
    {
      "cell_type": "markdown",
      "metadata": {
        "id": "4CR2idY8xOwW"
      },
      "source": [
        "### Question 2 [10 pts]\n",
        "\n",
        "Based on your observations, do you think an accumulator is needed for this *particular* task setup?  Would you expect an agent which doesn't accumulate (having a threshold of almost zero, thus reacting immediately to its first sensory signal) to outform an agent which uses multiple time steps to accumulate evidence?"
      ]
    },
    {
      "cell_type": "markdown",
      "metadata": {
        "id": "iK3-2cKkzx0v"
      },
      "source": [
        "*No, I do not think an accumulator is \"needed\" for this particular task. An accumulator only makes a difference for higher threshold values, while for lower ones having an accumulator barely makes a difference. Since the lower thresholds have a high survival rate with decent average score, the accumulator is unecessary.*\n",
        "\n",
        "*No, an agent lacking an accumulator would preform worse than one with an accumulator if we looking at a large amount of time/steps. For a small amount like in this task, however, both agents would preform very similarly with a threshold of almost 0.*"
      ]
    },
    {
      "cell_type": "markdown",
      "metadata": {
        "id": "N9wTR7VdzMEg"
      },
      "source": [
        "### Question 3 [5 pts]\n",
        "\n",
        "Let's get philosophical. Is it better to gamble on being the best, knowing you risk death (in this task) or is it better to be average and alive? \n",
        "\n",
        "Based on the data from lab and this homework, what DDM parameters (drift rate, decision threshold) do you _personally_ prefer? There is no right answer. Be yourself."
      ]
    },
    {
      "cell_type": "markdown",
      "metadata": {
        "id": "ojII8g_rzqtE"
      },
      "source": [
        "*Average and alive is overall a safer bet on a purely instictual basis. If you think about how we live life, however, humans often take risks to try to be the best. For example even a higher level college, like CMU, is a risk from a financial standpoint as well as a health/stress level standpoint, and yet we take the risk in order to (hopefully) increase our chances of landing out dream (best) job.*\n",
        "\n",
        "*I personally would go for a threshhold of 3.0 (basic, I know) because it has the highest average score, a decent best score (so you have decent self-esteem), and a low death count. Total distance I think matters least to me so I personally ignored that parameeter. And for drift rate I would choose 1.0 (basic again) for the same reasons. Basically I would rather stay alive than die trying to be the best, but I also am willing to have a slight risk of death if it means I am not miserable.*"
      ]
    },
    {
      "cell_type": "markdown",
      "metadata": {
        "id": "WbRtr6jG08Tr"
      },
      "source": [
        "## Section - Is randomness still important for movement? [40 pts total]\n",
        "\n",
        "Let's take a break from evidence accumulation to revisit the simpler sniffing agent, which automatically knows the gradient direction without having to decide first.\n",
        "\n",
        "Recall that the movement of these sniffing agents is also governed by two other parameters: _p pos_ and _p neg_.  These represent the probability that the agent changes its direction before its linear movement.\n",
        "\n",
        "- If the gradient is positive at the current location, then _p pos_ is the chance of changing direction.\n",
        "- If the gradient is negative, then _p neg_ is the chance of changing direction."
      ]
    },
    {
      "cell_type": "markdown",
      "metadata": {
        "id": "S_s82d_y1vNA"
      },
      "source": [
        "### Question 4 [10 pts]\n",
        "In the example in lab, _p pos_ was 0.5, and _p neg_ was 1.0. This means that when the gradient was positive half the time the walker would change direction anyway. It also means the all the time when the grad was negative, the explorer would change direction.\n",
        "\n",
        "Do these parameter choices seem optimal to you? \n",
        "\n",
        "Make a best guess for how to improve them, if you think they can be improved. Explain your choice."
      ]
    },
    {
      "cell_type": "markdown",
      "metadata": {
        "id": "HeRFnQYo2i4J"
      },
      "source": [
        "I think that p neg should always be 1.0 becuase if you are going in the wrong direction than you must change direction. On the other hand, p pos should be lower in my opinion, perhaps 0.1, because if you are already going in the right direction then you only want a slight chance of changing the direction which would allow for shortcuts, otherwise there will be too much accidental turning away from your goal if the p pos is too high."
      ]
    },
    {
      "cell_type": "markdown",
      "metadata": {
        "id": "oHIyS7jn3VUO"
      },
      "source": [
        "### Testing your hypothesis [15 pts]\n",
        "\n",
        "By (very slightly) modifying the parameters of the code from lab, rerun the comparison between diffusion, levy, and sniffing agents, but with a better selection for _p pos_ and _p neg_.  Then plot the results."
      ]
    },
    {
      "cell_type": "code",
      "metadata": {
        "id": "7ixkGo4v4agS",
        "colab": {
          "base_uri": "https://localhost:8080/",
          "height": 417,
          "referenced_widgets": [
            "b7139d440bf344fca7587b0dfddb44be",
            "f36648aec52648a7a3f397991e88f87f",
            "c141326d033c47f0819c5f8ab755d0eb",
            "f5a1869500ee44e8b9a105ab3861e5d6",
            "017e168d75db4b00b6f653ca88b2d8f3",
            "07de09463e294e81a088f8354451f862",
            "817db9e432944dd0b809cf310daf3ec4",
            "8dc6fdc39baa4d71a1e7e6976b66bec2",
            "0a08b49677c841aeab984f76a781076a",
            "8322fa6369f64fc1b33a26ff55515d40",
            "e85a59b843114b038bd60dcfea180f97"
          ]
        },
        "outputId": "1de15ed0-d50c-4818-b437-c365063ef29f"
      },
      "source": [
        "# Experiment settings\n",
        "num_experiments = 100\n",
        "num_steps = 1000\n",
        "p_neg = 1.0\n",
        "p_pos = .1\n",
        "scent_sigma = 10\n",
        "\n",
        "\n",
        "# Env\n",
        "detection_radius = 1\n",
        "min_length = 1\n",
        "max_length = 10\n",
        "\n",
        "env = ScentGrid(mode=\"discrete\")\n",
        "boundary = (100, 100)\n",
        "target = (5,5)\n",
        "coord, scent = create_grid_scent(boundary, amplitude=1, sigma=scent_sigma)\n",
        "env.add_scent(target, 1, coord, scent)\n",
        "# TODO plot scent\n",
        "\n",
        "# Agents\n",
        "diff = DiffusionDiscrete(min_length=min_length, scale=1)\n",
        "levy2 = TruncatedLevyDiscrete(min_length=min_length, max_length=max_length, exponent=2)\n",
        "sniff = GradientDiffusionDiscrete(num_actions=4, min_length=min_length, scale=2, p_neg=p_neg, p_pos=p_pos)\n",
        "\n",
        "# Cleanup \n",
        "for path in glob.glob(\"data/test4_*.pkl\"):\n",
        "    os.remove(path)\n",
        "\n",
        "# Run Sims\n",
        "levy2_exp = experiment(\n",
        "    f\"data/test4_levy.pkl\",\n",
        "    levy2,\n",
        "    env,\n",
        "    num_steps=num_steps,\n",
        "    num_experiments=num_experiments,\n",
        "    dump=False,\n",
        "    split_state=True,\n",
        ")\n",
        "diff_exp = experiment(\n",
        "    f\"data/test4_diff.pkl\",\n",
        "    diff,\n",
        "    env,\n",
        "    num_steps=num_steps,\n",
        "    num_experiments=num_experiments,\n",
        "    dump=False,\n",
        "    split_state=True,\n",
        ")\n",
        "sniff_exp = experiment(\n",
        "    f\"data/test4_sniff.pkl\",\n",
        "    sniff,\n",
        "    env,\n",
        "    num_steps=num_steps,\n",
        "    num_experiments=num_experiments,\n",
        "    dump=False,\n",
        "    split_state=True,\n",
        ")\n",
        "\n",
        "# Results, names, and colors\n",
        "results = [levy2_exp, diff_exp, sniff_exp]\n",
        "names = [\"Levy\", \"Diffusion\", \"Sniff\"]\n",
        "colors = [\"purple\", \"brown\", \"green\"]\n",
        "\n",
        "# Score by total reward\n",
        "scores = []\n",
        "for name, res, color in zip(names, results, colors):\n",
        "    r = total_reward(res)\n",
        "    scores.append(r)  \n",
        "\n",
        "# Tabulate\n",
        "m, sd = [], []\n",
        "for (name, s, c) in zip(names, scores, colors):\n",
        "    m.append(np.mean(s))\n",
        "    sd.append(np.std(s))\n",
        "\n",
        "# Plot\n",
        "fig = plt.figure(figsize=(3, 3))\n",
        "plt.bar(names, m, yerr=sd, color=\"black\", alpha=0.6)\n",
        "plt.ylabel(\"Score\")\n",
        "plt.tight_layout()\n",
        "sns.despine()"
      ],
      "execution_count": 14,
      "outputs": [
        {
          "output_type": "display_data",
          "data": {
            "application/vnd.jupyter.widget-view+json": {
              "model_id": "b7139d440bf344fca7587b0dfddb44be",
              "version_minor": 0,
              "version_major": 2
            },
            "text/plain": [
              "test4_levy:   0%|          | 0/100 [00:00<?, ?it/s]"
            ]
          },
          "metadata": {}
        },
        {
          "output_type": "display_data",
          "data": {
            "application/vnd.jupyter.widget-view+json": {
              "model_id": "db73c1e1f62f4a7b974db8554f76c2c9",
              "version_minor": 0,
              "version_major": 2
            },
            "text/plain": [
              "test4_diff:   0%|          | 0/100 [00:00<?, ?it/s]"
            ]
          },
          "metadata": {}
        },
        {
          "output_type": "display_data",
          "data": {
            "application/vnd.jupyter.widget-view+json": {
              "model_id": "acf9f937b400439fb8ffa98698ff2832",
              "version_minor": 0,
              "version_major": 2
            },
            "text/plain": [
              "test4_sniff:   0%|          | 0/100 [00:00<?, ?it/s]"
            ]
          },
          "metadata": {}
        },
        {
          "output_type": "display_data",
          "data": {
            "application/vnd.jupyter.widget-view+json": {
              "model_id": "1023a05297514184b011ac74618ad68d",
              "version_minor": 0,
              "version_major": 2
            },
            "text/plain": [
              "total_reward:   0%|          | 0/100 [00:00<?, ?it/s]"
            ]
          },
          "metadata": {}
        },
        {
          "output_type": "display_data",
          "data": {
            "application/vnd.jupyter.widget-view+json": {
              "model_id": "79850b651ba04bfdafc5cc22635e61e1",
              "version_minor": 0,
              "version_major": 2
            },
            "text/plain": [
              "total_reward:   0%|          | 0/100 [00:00<?, ?it/s]"
            ]
          },
          "metadata": {}
        },
        {
          "output_type": "display_data",
          "data": {
            "application/vnd.jupyter.widget-view+json": {
              "model_id": "014bb742274c4b00aafec68838e2eff4",
              "version_minor": 0,
              "version_major": 2
            },
            "text/plain": [
              "total_reward:   0%|          | 0/100 [00:00<?, ?it/s]"
            ]
          },
          "metadata": {}
        },
        {
          "output_type": "display_data",
          "data": {
            "image/png": "[encoded data removed]",
            "text/plain": [
              "<Figure size 216x216 with 1 Axes>"
            ]
          },
          "metadata": {
            "image/png": {
              "width": 208,
              "height": 208
            },
            "needs_background": "light"
          }
        }
      ]
    },
    {
      "cell_type": "code",
      "metadata": {
        "colab": {
          "base_uri": "https://localhost:8080/",
          "height": 297
        },
        "id": "-Tbz3TQEYP70",
        "outputId": "2349edf6-507c-4e2b-b7b5-3759a80cbe26"
      },
      "source": [
        "for (name, s, c) in zip(names, scores, colors):\n",
        "    plt.hist(s, label=name, color=c, alpha=0.5, bins=np.arange(min(s),max(s)+1,1))\n",
        "    plt.legend()\n",
        "    plt.xlabel(\"Score\")\n",
        "    plt.tight_layout()\n",
        "    sns.despine()"
      ],
      "execution_count": 15,
      "outputs": [
        {
          "output_type": "display_data",
          "data": {
            "image/png": "[encoded data removed]",
            "text/plain": [
              "<Figure size 432x288 with 1 Axes>"
            ]
          },
          "metadata": {
            "image/png": {
              "width": 424,
              "height": 280
            },
            "needs_background": "light"
          }
        }
      ]
    },
    {
      "cell_type": "markdown",
      "metadata": {
        "id": "kuPEyDdy4EqV"
      },
      "source": [
        "### Question 5 [10 pts]\n",
        "\n",
        "Was your hypothesis correct? Compare the scores to those achieved in lab."
      ]
    },
    {
      "cell_type": "markdown",
      "metadata": {
        "id": "O--peuRK5MyC"
      },
      "source": [
        "*Yes! My hypothesis was definitely correct at least for sniff! The average scores for sniff are a LOT higher than those achieved in lab. For Levy and Diffusion they I honestly cannot tell if it improves the scores, I believe it did a little but not a notable amount (especially compared to sniff). I just tried p pos = 0 after writing all this though and that was even better so... I guess I wasn't fully correct.*"
      ]
    },
    {
      "cell_type": "markdown",
      "metadata": {
        "id": "1ihzZNiv5QUR"
      },
      "source": [
        "### Question 6 [5 pts]\n",
        "\n",
        "Can you imagine a situation in which setting _p pos_ to zero would be bad?  As in, could there exist an environment in which always strictly following the scent gradient is suboptimal? Use your imagination."
      ]
    },
    {
      "cell_type": "markdown",
      "metadata": {
        "id": "qEmDMilt53-d"
      },
      "source": [
        "*If there is a shorter time limit (ex. you will die quickly if you dont get food very fast) then taking the long route with basically right angles will probably kill you because it will take up too much time. In this case gambling on the possibility of randomly accessing a short cut and making p pos =/= 0 may be worth it.*"
      ]
    },
    {
      "cell_type": "markdown",
      "metadata": {
        "id": "AXTxkPUF6Ao6"
      },
      "source": [
        "## Submission\n",
        "\n",
        "**DUE:** 5pm EST, Oct 12, 2021. Email the link to the completed notebook on your Github repository to the TA and me via Canvas."
      ]
    },
    {
      "cell_type": "markdown",
      "metadata": {
        "id": "3d6uFZOB6kvI"
      },
      "source": [
        "**IMPORTANT** Did you collaborate with anyone on this assignment? If so, list their names here. \n",
        "> *Maya Greenholt*"
      ]
    }
  ]
}